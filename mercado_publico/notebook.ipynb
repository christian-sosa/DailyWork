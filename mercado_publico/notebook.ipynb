{
 "cells": [
  {
   "cell_type": "code",
   "execution_count": null,
   "metadata": {},
   "outputs": [],
   "source": [
    "#6-2 se arreglo un bug en las fechas recibidas. \n",
    "#Se modifico la funcion periodo_str_short en la linea marcada y se agrego errors='coerce' en cierre , adjudicacion y publicacion para manejar fechas erroneas\n",
    "import awswrangler as wr\n",
    "import pandas as pd\n"
   ]
  },
  {
   "cell_type": "code",
   "execution_count": null,
   "metadata": {},
   "outputs": [],
   "source": [
    "dfOriginal = wr.s3.read_parquet(path='s3://cchc-dw-qa-raw/mercado_publico/licitaciones_finales/', dataset=True)"
   ]
  },
  {
   "cell_type": "code",
   "execution_count": null,
   "metadata": {},
   "outputs": [],
   "source": [
    "DATE_FORMAT = \"%d-%m-%Y\"\n",
    "\n",
    "_MESES_SHORT = [\n",
    "    \"ene\",\n",
    "    \"feb\",\n",
    "    \"mar\",\n",
    "    \"abr\",\n",
    "    \"may\",\n",
    "    \"jun\",\n",
    "    \"jul\",\n",
    "    \"ago\",\n",
    "    \"sep\",\n",
    "    \"oct\",\n",
    "    \"nov\",\n",
    "    \"dic\",\n",
    "]\n",
    "\n",
    "def periodo_str_short(periodo):\n",
    "    if periodo is None:\n",
    "        return None\n",
    "    #*\n",
    "    if periodo != periodo:\n",
    "        return None\n",
    "    #*\n",
    "    if len(periodo) == 5:\n",
    "        mes = int(periodo[4:5])\n",
    "        yr = periodo[0:4]\n",
    "\n",
    "        str_mes = _MESES_SHORT[mes - 1]\n",
    "    else:\n",
    "        mes = int(periodo[4:6])\n",
    "        yr = periodo[0:4]\n",
    "\n",
    "        str_mes = _MESES_SHORT[mes - 1]\n",
    "\n",
    "    return f\"{str_mes} - {yr}\""
   ]
  },
  {
   "cell_type": "code",
   "execution_count": null,
   "metadata": {},
   "outputs": [],
   "source": [
    "df = dfOriginal.copy()\n",
    "\n",
    "df.columns = df.columns.str.lower()\n",
    "\n",
    "to_convert = [\n",
    "    \"cantidad_adjudicada\",\n",
    "    \"presupuesto\",\n",
    "    \"total_adjudicado\",\n",
    "    \"precio_unitario\",\n",
    "]\n",
    "for x in to_convert:\n",
    "    df[x] = df[x].str.replace(\".\", \"\", regex=True)\n",
    "    df[x] = df[x].str.replace(\",\", \".\", regex=True)\n",
    "    df[x] = pd.to_numeric(df[x], errors=\"coerce\")\n",
    "    df[x] = df[x].round(0).astype(\"Int64\")\n",
    "\n",
    "df.cierre = df.cierre.str.split(\" \").str[0]\n",
    "df.cierre = pd.to_datetime(df.cierre, format=DATE_FORMAT, errors=\"coerce\")\n",
    "\n",
    "df.publicacion = df.publicacion.str.split(\" \").str[0]\n",
    "df.publicacion = pd.to_datetime(df.publicacion, format=DATE_FORMAT, errors=\"coerce\")\n",
    "\n",
    "df.adjudicacion = df.adjudicacion.str.split(\" \").str[0]\n",
    "df.adjudicacion = pd.to_datetime(\n",
    "    df.adjudicacion, format=DATE_FORMAT, errors=\"coerce\"\n",
    ")\n",
    "\n",
    "to_capitalize = [\n",
    "    \"lic_nombre\",\n",
    "    \"lic_descrip\",\n",
    "    \"stenderclientfullname\",\n",
    "    \"fullname\",\n",
    "    \"competidor\",\n",
    "]\n",
    "for x in to_capitalize:\n",
    "    df[x] = df[x].str.capitalize()\n",
    "\n",
    "df[\"periodo_num\"] = df.adjudicacion.dt.strftime(\"%Y%m\")\n",
    "# Por alcance se agregan estas dos columnas, que no necesariamente se utilizan\n",
    "df[\"periodo_str\"] = df.periodo_num.apply(lambda x: periodo_str_short(x))\n",
    "df[\"periodo\"] = df.periodo_num.apply(lambda x: periodo_str_short(x))\n",
    "\n",
    "response = wr.s3.to_parquet(\n",
    "        df=df,\n",
    "        path=\"s3://cchc-dw-dev-staging/mercado_publico/licitaciones_finales/\",\n",
    "        dataset=True,\n",
    "        database=\"staging_dev\",\n",
    "        mode=\"overwrite\",\n",
    "        table=\"mercado_publico_licitaciones_finales\",\n",
    "        compression=\"gzip\",\n",
    "        dtype={\"cierre\": \"date\", \"publicacion\": \"date\", \"adjudicacion\": \"date\"},\n",
    "    )\n",
    "\n"
   ]
  },
  {
   "cell_type": "code",
   "execution_count": null,
   "metadata": {},
   "outputs": [],
   "source": [
    "df = df[df.adjudicacion.isnull()]\n",
    "df"
   ]
  },
  {
   "cell_type": "code",
   "execution_count": null,
   "metadata": {},
   "outputs": [],
   "source": [
    "test = pd.to_datetime('2020-07-24', format=DATE_FORMAT)\n",
    "test"
   ]
  },
  {
   "cell_type": "code",
   "execution_count": null,
   "metadata": {},
   "outputs": [],
   "source": [
    "df = dfOriginal.copy()\n",
    "#df = df[(df.RUT == '94.557.000-8') & df.TenderCode == '5407-122-O122']\n",
    "df = df.iloc[364873]\n",
    "df"
   ]
  }
 ],
 "metadata": {
  "kernelspec": {
   "display_name": "Python 3",
   "language": "python",
   "name": "python3"
  },
  "language_info": {
   "codemirror_mode": {
    "name": "ipython",
    "version": 3
   },
   "file_extension": ".py",
   "mimetype": "text/x-python",
   "name": "python",
   "nbconvert_exporter": "python",
   "pygments_lexer": "ipython3",
   "version": "3.10.6"
  },
  "orig_nbformat": 4,
  "vscode": {
   "interpreter": {
    "hash": "369f2c481f4da34e4445cda3fffd2e751bd1c4d706f27375911949ba6bb62e1c"
   }
  }
 },
 "nbformat": 4,
 "nbformat_minor": 2
}
