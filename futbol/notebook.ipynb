{
 "cells": [
  {
   "cell_type": "code",
   "execution_count": null,
   "metadata": {},
   "outputs": [],
   "source": [
    "import pandas as pd\n",
    "import os\n",
    "import pathlib\n",
    "\n",
    "path = 'D:/ArkhoTech/CCHC/dailywork/datasets/futbol/results.csv'\n",
    "dfResultados = pd.read_csv(path)\n",
    "dfResultados.columns.to_list()"
   ]
  },
  {
   "cell_type": "code",
   "execution_count": null,
   "metadata": {},
   "outputs": [],
   "source": [
    "df = dfResultados.copy()\n",
    "\n",
    "#df = df[(df.home_team == 'Argentina') | (df.away_team == 'Argentina')]\n",
    "\n",
    "dflocal = df[df.home_team == 'Argentina']\n",
    "dfvisitante = df[df.away_team == 'Argentina']\n",
    "\n",
    "dfvisitante = dfvisitante[dfvisitante.away_score > dfvisitante.home_score]\n",
    "\n",
    "dfempateslocal = dflocal[dflocal.away_score == dflocal.home_score]\n",
    "\n",
    "dflocal = dflocal[dflocal.away_score < dflocal.home_score]\n",
    "\n",
    "dfempatesvisitante = dfvisitante[dfvisitante.away_score == dfvisitante.home_score]\n",
    "\n",
    "dfempates = pd.concat([dfempateslocal,dfempatesvisitante])\n",
    "\n",
    "dfempates\n",
    "\n"
   ]
  },
  {
   "cell_type": "code",
   "execution_count": null,
   "metadata": {},
   "outputs": [],
   "source": [
    "df = dfResultados.copy()\n",
    "\n",
    "\n",
    "df = df[(df.home_team == 'Argentina')]\n",
    "\n",
    "df = df.groupby(['home_team']).sum(numeric_only=True)\n",
    "\n",
    "\n",
    "#df = df[(df.home_team == 'Argentina') | (df.away_team == 'Argentina')]\n",
    "\n",
    "#df = df[((df.home_team == 'Argentina') & (df.home_score > df.away_score)) | ((df.away_team == 'Argentina') & (df.home_score < df.away_score))]\n",
    "\n",
    "#df = df.groupby(['home_team','away_team']).sum()\n",
    "df"
   ]
  }
 ],
 "metadata": {
  "kernelspec": {
   "display_name": "Python 3",
   "language": "python",
   "name": "python3"
  },
  "language_info": {
   "codemirror_mode": {
    "name": "ipython",
    "version": 3
   },
   "file_extension": ".py",
   "mimetype": "text/x-python",
   "name": "python",
   "nbconvert_exporter": "python",
   "pygments_lexer": "ipython3",
   "version": "3.10.6"
  },
  "orig_nbformat": 4,
  "vscode": {
   "interpreter": {
    "hash": "369f2c481f4da34e4445cda3fffd2e751bd1c4d706f27375911949ba6bb62e1c"
   }
  }
 },
 "nbformat": 4,
 "nbformat_minor": 2
}
