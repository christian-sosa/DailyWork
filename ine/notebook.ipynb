{
 "cells": [
  {
   "cell_type": "code",
   "execution_count": 1,
   "metadata": {},
   "outputs": [],
   "source": [
    "import json\n",
    "import requests\n",
    "import os\n",
    "from datetime import datetime\n",
    "from dateutil import tz\n",
    "import boto3\n",
    "\n",
    "CLT = tz.gettz(\"America/Santiago\")\n",
    "\n",
    "URL = \"https://www.ine.gob.cl/estadisticas/sociales/mercado-laboral/ocupacion-y-desocupacion/getArchivos/\"\n",
    "#RAW_BUCKET = os.getenv(\"RAW_BUCKET\")\n"
   ]
  },
  {
   "cell_type": "code",
   "execution_count": 6,
   "metadata": {},
   "outputs": [
    {
     "name": "stdout",
     "output_type": "stream",
     "text": [
      "Convirtiendo {'Titulo': 'IR-ICMO Nominal General (Indices y Variaciones)', 'Descripcion': '', 'Peso': '39936', 'Fecha': None, 'Url': 'http://www.ine.gob.cl/docs/default-source/sueldos-y-salarios/cuadros-estadisticos/iricmo-base-anual-2016/series-mensuales/ir-icmo-nominal-general.xls?sfvrsn=3dd3a011_86', 'Tipo': '.XLS', 'Periodo': None}\n",
      "Agregado archivo IR-ICMO Nominal General (Indices y Variaciones) a la lista de descargas\n",
      "Convirtiendo {'Titulo': 'IR Real General (Índices y Variaciones, según IPC Base 2018=100)', 'Descripcion': '', 'Peso': '39424', 'Fecha': None, 'Url': 'http://www.ine.gob.cl/docs/default-source/sueldos-y-salarios/cuadros-estadisticos/iricmo-base-anual-2016/series-mensuales/ir-real-general-(índices-y-variaciones-según-ipc-base-2018=100).xls?sfvrsn=1bd25df_90', 'Tipo': '.XLS', 'Periodo': None}\n",
      "Agregado archivo IR Real General (Índices y Variaciones, según IPC Base 2018=100) a la lista de descargas\n",
      "Convirtiendo {'Titulo': 'IR Nominal por Actividad Económica (Indices y Variaciones)', 'Descripcion': '', 'Peso': '41472', 'Fecha': None, 'Url': 'http://www.ine.gob.cl/docs/default-source/sueldos-y-salarios/cuadros-estadisticos/iricmo-base-anual-2016/series-mensuales/ir-nominal-por-actividad-económica-(indices-y-variaciones).xls?sfvrsn=bf411ff2_88', 'Tipo': '.XLS', 'Periodo': None}\n",
      "Agregado archivo IR Nominal por Actividad Económica (Indices y Variaciones) a la lista de descargas\n",
      "Convirtiendo {'Titulo': 'ICMO Nominal por Actividad Económica (Indices y Variaciones)', 'Descripcion': '', 'Peso': '41472', 'Fecha': None, 'Url': 'http://www.ine.gob.cl/docs/default-source/sueldos-y-salarios/cuadros-estadisticos/iricmo-base-anual-2016/series-mensuales/icmo-nominal-por-actividad-económica-(indices-y-variaciones).xls?sfvrsn=60a1f5da_88', 'Tipo': '.XLS', 'Periodo': None}\n",
      "Agregado archivo ICMO Nominal por Actividad Económica (Indices y Variaciones) a la lista de descargas\n",
      "Convirtiendo {'Titulo': 'IR Nominal por Tamaño de Empresa (Indices y Variaciones)', 'Descripcion': '', 'Peso': '38912', 'Fecha': None, 'Url': 'http://www.ine.gob.cl/docs/default-source/sueldos-y-salarios/cuadros-estadisticos/iricmo-base-anual-2016/series-mensuales/ir-nominal-por-tamaño-de-empresa-(indices-y-variaciones).xls?sfvrsn=540fdb26_88', 'Tipo': '.XLS', 'Periodo': None}\n",
      "Agregado archivo IR Nominal por Tamaño de Empresa (Indices y Variaciones) a la lista de descargas\n",
      "Convirtiendo {'Titulo': 'ICMO Nominal por Tamaño de Empresa (Indices y Variaciones)', 'Descripcion': '', 'Peso': '38912', 'Fecha': None, 'Url': 'http://www.ine.gob.cl/docs/default-source/sueldos-y-salarios/cuadros-estadisticos/iricmo-base-anual-2016/series-mensuales/icmo-nominal-por-tamaño-de-empresa-(indices-y-variaciones).xls?sfvrsn=eb69c9a5_88', 'Tipo': '.XLS', 'Periodo': None}\n",
      "Agregado archivo ICMO Nominal por Tamaño de Empresa (Indices y Variaciones) a la lista de descargas\n",
      "Convirtiendo {'Titulo': 'IR Nominal por Grupo Ocupacional (Indices y Variaciones)', 'Descripcion': '', 'Peso': '39936', 'Fecha': None, 'Url': 'http://www.ine.gob.cl/docs/default-source/sueldos-y-salarios/cuadros-estadisticos/iricmo-base-anual-2016/series-mensuales/ir-nominal-por-grupo-ocupacional-(indices-y-variaciones).xls?sfvrsn=6d1b0837_84', 'Tipo': '.XLS', 'Periodo': None}\n",
      "Agregado archivo IR Nominal por Grupo Ocupacional (Indices y Variaciones) a la lista de descargas\n",
      "Convirtiendo {'Titulo': 'ICMO Nominal por Grupo Ocupacional (Indices y Variaciones)', 'Descripcion': '', 'Peso': '39936', 'Fecha': None, 'Url': 'http://www.ine.gob.cl/docs/default-source/sueldos-y-salarios/cuadros-estadisticos/iricmo-base-anual-2016/series-mensuales/icmo-nominal-por-grupo-ocupacional-(indices-y-variaciones).xls?sfvrsn=744d9104_91', 'Tipo': '.XLS', 'Periodo': None}\n",
      "Agregado archivo ICMO Nominal por Grupo Ocupacional (Indices y Variaciones) a la lista de descargas\n",
      "Convirtiendo {'Titulo': 'IR Nominal por Sexo (Indices y Variaciones)', 'Descripcion': '', 'Peso': '37888', 'Fecha': None, 'Url': 'http://www.ine.gob.cl/docs/default-source/sueldos-y-salarios/cuadros-estadisticos/iricmo-base-anual-2016/series-mensuales/ir-nominal-por-sexo-(indices-y-variaciones).xls?sfvrsn=fd841b50_88', 'Tipo': '.XLS', 'Periodo': None}\n",
      "Agregado archivo IR Nominal por Sexo (Indices y Variaciones) a la lista de descargas\n",
      "Convirtiendo {'Titulo': 'ICMO Nominal por Sexo (Indices y Variaciones)', 'Descripcion': '', 'Peso': '37888', 'Fecha': None, 'Url': 'http://www.ine.gob.cl/docs/default-source/sueldos-y-salarios/cuadros-estadisticos/iricmo-base-anual-2016/series-mensuales/icmo-nominal-por-sexo-(indices-y-variaciones).xls?sfvrsn=9c540410_88', 'Tipo': '.XLS', 'Periodo': None}\n",
      "Agregado archivo ICMO Nominal por Sexo (Indices y Variaciones) a la lista de descargas\n",
      "Convirtiendo {'Titulo': 'Remuneración y Costo Medios por hora pagada General y por Sexo (Estimaciones)', 'Descripcion': '', 'Peso': '56832', 'Fecha': None, 'Url': 'http://www.ine.gob.cl/docs/default-source/sueldos-y-salarios/cuadros-estadisticos/iricmo-base-anual-2016/series-mensuales/remuneración-y-costo-medios-por-hora-pagada-general-y-por-sexo-(estimaciones).xls?sfvrsn=5db6ed31_97', 'Tipo': '.XLS', 'Periodo': None}\n",
      "Agregado archivo Remuneración y Costo Medios por hora pagada General y por Sexo (Estimaciones) a la lista de descargas\n",
      "Convirtiendo {'Titulo': 'Remuneración y Costo Medios por hora pagada según Actividad Económica (Estimaciones)', 'Descripcion': '', 'Peso': '35840', 'Fecha': None, 'Url': 'http://www.ine.gob.cl/docs/default-source/sueldos-y-salarios/cuadros-estadisticos/iricmo-base-anual-2016/series-mensuales/remuneración-y-costo-medios-por-hora-pagada-según-actividad-económica-(estimaciones).xls?sfvrsn=a9807d7e_70', 'Tipo': '.XLS', 'Periodo': None}\n",
      "Agregado archivo Remuneración y Costo Medios por hora pagada según Actividad Económica (Estimaciones) a la lista de descargas\n",
      "Convirtiendo {'Titulo': 'Remuneración y Costo Medios por hora pagada según Grupo Ocupacional (Estimaciones)', 'Descripcion': '', 'Peso': '29184', 'Fecha': None, 'Url': 'http://www.ine.gob.cl/docs/default-source/sueldos-y-salarios/cuadros-estadisticos/iricmo-base-anual-2016/series-mensuales/remuneración-y-costo-medios-por-hora-pagada-según-grupo-ocupacional-(estimaciones).xls?sfvrsn=5206c81c_65', 'Tipo': '.XLS', 'Periodo': None}\n",
      "Agregado archivo Remuneración y Costo Medios por hora pagada según Grupo Ocupacional (Estimaciones) a la lista de descargas\n",
      "Convirtiendo {'Titulo': 'Horas Medias por Trabajador General (Estimaciones)', 'Descripcion': '', 'Peso': '40448', 'Fecha': None, 'Url': 'http://www.ine.gob.cl/docs/default-source/sueldos-y-salarios/cuadros-estadisticos/iricmo-base-anual-2016/series-mensuales/horas-medias-por-trabajador-general-(estimaciones).xls?sfvrsn=aac3a2b6_86', 'Tipo': '.XLS', 'Periodo': None}\n",
      "Agregado archivo Horas Medias por Trabajador General (Estimaciones) a la lista de descargas\n",
      "Convirtiendo {'Titulo': 'Horas Medias por Trabajador según Actividad Económica (Estimaciones)', 'Descripcion': '', 'Peso': '34816', 'Fecha': None, 'Url': 'http://www.ine.gob.cl/docs/default-source/sueldos-y-salarios/cuadros-estadisticos/iricmo-base-anual-2016/series-mensuales/horas-medias-por-trabajador-según-actividad-económica-(estimaciones).xls?sfvrsn=e0846c51_67', 'Tipo': '.XLS', 'Periodo': None}\n",
      "Agregado archivo Horas Medias por Trabajador según Actividad Económica (Estimaciones) a la lista de descargas\n",
      "Convirtiendo {'Titulo': 'Horas Medias por Trabajador según Grupo Ocupacional (Estimaciones)', 'Descripcion': '', 'Peso': '28672', 'Fecha': None, 'Url': 'http://www.ine.gob.cl/docs/default-source/sueldos-y-salarios/cuadros-estadisticos/iricmo-base-anual-2016/series-mensuales/horas-medias-por-trabajador-según-grupo-ocupacional-(estimaciones).xls?sfvrsn=61d4427e_67', 'Tipo': '.XLS', 'Periodo': None}\n",
      "Agregado archivo Horas Medias por Trabajador según Grupo Ocupacional (Estimaciones) a la lista de descargas\n",
      "descargando https://www.ine.gob.cl/docs/default-source/sueldos-y-salarios/cuadros-estadisticos/iricmo-base-anual-2016/series-mensuales/ir-icmo-nominal-general.xls?sfvrsn=3dd3a011_86\n"
     ]
    },
    {
     "ename": "OSError",
     "evalue": "[Errno 22] Invalid argument: 'ine/'",
     "output_type": "error",
     "traceback": [
      "\u001b[1;31m---------------------------------------------------------------------------\u001b[0m",
      "\u001b[1;31mOSError\u001b[0m                                   Traceback (most recent call last)",
      "Cell \u001b[1;32mIn[6], line 45\u001b[0m\n\u001b[0;32m     41\u001b[0m file_name \u001b[39m=\u001b[39m archivo[\u001b[39m\"\u001b[39m\u001b[39mtitle\u001b[39m\u001b[39m\"\u001b[39m] \u001b[39m+\u001b[39m archivo[\u001b[39m\"\u001b[39m\u001b[39mtipo\u001b[39m\u001b[39m\"\u001b[39m]\u001b[39m.\u001b[39mlower()\n\u001b[0;32m     43\u001b[0m file_name \u001b[39m=\u001b[39m file_name\u001b[39m.\u001b[39mstrip()\n\u001b[1;32m---> 45\u001b[0m \u001b[39mopen\u001b[39;49m(\u001b[39m\"\u001b[39;49m\u001b[39mine/\u001b[39;49m\u001b[39m\"\u001b[39;49m, \u001b[39m\"\u001b[39;49m\u001b[39mwb\u001b[39;49m\u001b[39m\"\u001b[39;49m)\u001b[39m.\u001b[39mwrite(ine_file\u001b[39m.\u001b[39mcontent)\n\u001b[0;32m     47\u001b[0m \u001b[39m#s3.Object(RAW_BUCKET, f\"landing/INE/year={year}/month={month}/{ file_name }\").upload_file(\"/tmp/\" + file_name)\u001b[39;00m\n",
      "File \u001b[1;32m~\\AppData\\Roaming\\Python\\Python310\\site-packages\\IPython\\core\\interactiveshell.py:282\u001b[0m, in \u001b[0;36m_modified_open\u001b[1;34m(file, *args, **kwargs)\u001b[0m\n\u001b[0;32m    275\u001b[0m \u001b[39mif\u001b[39;00m file \u001b[39min\u001b[39;00m {\u001b[39m0\u001b[39m, \u001b[39m1\u001b[39m, \u001b[39m2\u001b[39m}:\n\u001b[0;32m    276\u001b[0m     \u001b[39mraise\u001b[39;00m \u001b[39mValueError\u001b[39;00m(\n\u001b[0;32m    277\u001b[0m         \u001b[39mf\u001b[39m\u001b[39m\"\u001b[39m\u001b[39mIPython won\u001b[39m\u001b[39m'\u001b[39m\u001b[39mt let you open fd=\u001b[39m\u001b[39m{\u001b[39;00mfile\u001b[39m}\u001b[39;00m\u001b[39m by default \u001b[39m\u001b[39m\"\u001b[39m\n\u001b[0;32m    278\u001b[0m         \u001b[39m\"\u001b[39m\u001b[39mas it is likely to crash IPython. If you know what you are doing, \u001b[39m\u001b[39m\"\u001b[39m\n\u001b[0;32m    279\u001b[0m         \u001b[39m\"\u001b[39m\u001b[39myou can use builtins\u001b[39m\u001b[39m'\u001b[39m\u001b[39m open.\u001b[39m\u001b[39m\"\u001b[39m\n\u001b[0;32m    280\u001b[0m     )\n\u001b[1;32m--> 282\u001b[0m \u001b[39mreturn\u001b[39;00m io_open(file, \u001b[39m*\u001b[39margs, \u001b[39m*\u001b[39m\u001b[39m*\u001b[39mkwargs)\n",
      "\u001b[1;31mOSError\u001b[0m: [Errno 22] Invalid argument: 'ine/'"
     ]
    }
   ],
   "source": [
    "\n",
    "now = datetime.now(tz=CLT)\n",
    "year = now.year\n",
    "month = str(now.month).zfill(2)\n",
    "\n",
    "download_filter = []\n",
    "#event.get(\"download_filters\", [])\n",
    "\n",
    "FOLDER_ID = '1270d9b3-5bcb-424c-b08a-180fb99dc5ab'\n",
    "#event.get(\"folder_id\")\n",
    "\n",
    "request_body = {\n",
    "    \"idFolder\" : FOLDER_ID,\n",
    "    \"Content-Type\" : \"multipart/form-data\",\n",
    "    \"Accept\" : \"*/*\"\n",
    "}\n",
    "folderInfo = requests.post(url=URL, data=request_body, timeout=60)\n",
    "\n",
    "if folderInfo.status_code != 200:\n",
    "    raise Exception(\"No se pudo obtener la información del folder del INE\")\n",
    "\n",
    "children = folderInfo.json()[\"documento\"]\n",
    "\n",
    "data = []\n",
    "for child in children:\n",
    "    print(\"Convirtiendo\", child)\n",
    "    item = {\n",
    "        \"title\" : child[\"Titulo\"].replace(\":\", \"-\"),\n",
    "        \"url\" : child[\"Url\"].replace(\"http\", \"https\"),\n",
    "        \"tipo\" : child[\"Tipo\"]\n",
    "    }\n",
    "    if len(download_filter) == 0 or child[\"Titulo\"] in download_filter:\n",
    "        print(\"Agregado archivo\", child[\"Titulo\"], \"a la lista de descargas\")\n",
    "        data.append(item)\n",
    "\n",
    "s3 = boto3.resource(\"s3\")\n",
    "#Descargar datos\n",
    "for archivo in data:\n",
    "    print(\"descargando\", archivo[\"url\"])\n",
    "    ine_file = requests.get(archivo[\"url\"], timeout=60)\n",
    "\n",
    "    file_name = archivo[\"title\"] + archivo[\"tipo\"].lower()\n",
    "    \n",
    "    file_name = file_name.strip()\n",
    "\n",
    "    #open(\"ine/\", \"wb\").write(ine_file.content)\n",
    "\n",
    "    #s3.Object(RAW_BUCKET, f\"landing/INE/year={year}/month={month}/{ file_name }\").upload_file(\"/tmp/\" + file_name)\n"
   ]
  }
 ],
 "metadata": {
  "kernelspec": {
   "display_name": "Python 3",
   "language": "python",
   "name": "python3"
  },
  "language_info": {
   "codemirror_mode": {
    "name": "ipython",
    "version": 3
   },
   "file_extension": ".py",
   "mimetype": "text/x-python",
   "name": "python",
   "nbconvert_exporter": "python",
   "pygments_lexer": "ipython3",
   "version": "3.10.6"
  },
  "orig_nbformat": 4,
  "vscode": {
   "interpreter": {
    "hash": "369f2c481f4da34e4445cda3fffd2e751bd1c4d706f27375911949ba6bb62e1c"
   }
  }
 },
 "nbformat": 4,
 "nbformat_minor": 2
}
