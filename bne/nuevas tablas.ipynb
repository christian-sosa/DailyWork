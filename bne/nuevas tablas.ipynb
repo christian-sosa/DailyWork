{
 "cells": [
  {
   "cell_type": "code",
   "execution_count": null,
   "metadata": {},
   "outputs": [],
   "source": [
    "SSH_KEY_LOCATION = \"D:\\ArkhoTech\\CCHC\\pem.pem\"\n",
    "\n",
    "from sshtunnel import SSHTunnelForwarder\n",
    "import pandas as pd\n",
    "import awswrangler as wr\n",
    "import pyodbc\n",
    "\n",
    "HOST = \"ec2-54-152-91-151.compute-1.amazonaws.com\"\n",
    "USER = \"ec2-user\"\n",
    "PORT = 22\n",
    "\n",
    "def getConnection(port):\n",
    "    con_string = f\"\"\"DRIVER={{ODBC Driver 17 for SQL Server}};SERVER=127.0.0.1,{port};DATABASE=bne;UID=admin;PWD=ArkhoBN3\"\"\"\n",
    "    conn = pyodbc.connect(con_string)\n",
    "    return conn\n",
    "\n",
    "def query(query_string: str):\n",
    "    with SSHTunnelForwarder(\n",
    "            (HOST, PORT),\n",
    "            ssh_username=USER,\n",
    "            ssh_pkey=SSH_KEY_LOCATION,\n",
    "            remote_bind_address=(\"bne.cppgzemeawv9.us-east-1.rds.amazonaws.com\", 1433),\n",
    "        ) as server:\n",
    "            conn = getConnection(server.local_bind_port)\n",
    "            return pd.read_sql(query_string, con=conn)\n"
   ]
  },
  {
   "cell_type": "code",
   "execution_count": null,
   "metadata": {},
   "outputs": [],
   "source": [
    "df = query(\"\"\"\n",
    "select\n",
    "       convert(varchar(10), F.FEC_ALTA, 120) AS fecha_alta,\n",
    "       BNE_COMUNAS.NOMBRE                    AS comuna,\n",
    "       BNE_REGIONES.NOMBRE                   AS region,\n",
    "       COUNT(*)                              AS total,\n",
    "        co.DESCRIPCION as ocupacion\n",
    "from EMP_EMPRESARIO_USUARIOS a\n",
    "         inner join EMP_USUARIOS_UBICAC b on b.ID_EMPRESARIO_USUARIOS = a.id\n",
    "         inner join EMP_UBICAC_RELAC c on c.id = b.id_ubic_rel\n",
    "         inner join emp_empresario d on d.id = c.id_empresario\n",
    "         inner join sct_emp_sectores e on e.ID_EMPRESARIO = d.id\n",
    "         inner JOIN dbo.CCHC_DESCARGA_CV F ON a.id = f.id_emp_usuario\n",
    "         LEFT JOIN BNE_COMUNAS ON BNE_COMUNAS.ID = d.ID_COMUNA\n",
    "         LEFT JOIN BNE_REGIONES ON BNE_REGIONES.ID = d.ID_REGION\n",
    "        LEFT JOIN CCHC_DESCARGA_CV_DETALLE CDCD ON CDCD.ID_DESCARGA_CV = F.ID\n",
    "        LEFT JOIN PER_PERSONAS pp ON pp.id = CDCD.ID_PERSONA\n",
    "        LEFT JOIN CCHC_PER_OCUPACIONES cpo ON cpo.ID_PERSONA = pp.ID\n",
    "        LEFT JOIN CCHC_OCUPACIONES co ON co.id = cpo.ID_OCUPACION\n",
    "GROUP BY convert(varchar(10), F.FEC_ALTA, 120), BNE_COMUNAS.NOMBRE, BNE_REGIONES.NOMBRE, DESCRIPCION;\n",
    "\"\"\")\n",
    "\n",
    "df.head()"
   ]
  },
  {
   "cell_type": "code",
   "execution_count": null,
   "metadata": {},
   "outputs": [],
   "source": [
    "df[\"fecha_alta\"] = pd.to_datetime(df.fecha_alta)\n",
    "\n",
    "df.head()"
   ]
  },
  {
   "cell_type": "code",
   "execution_count": null,
   "metadata": {},
   "outputs": [],
   "source": [
    "wr.s3.to_parquet(\n",
    "    df=df,\n",
    "    database=\"raw_dev\",\n",
    "    table=\"bne_oficios_cvs_descargados\",\n",
    "    path=\"s3://cchc-dw-dev-raw/bne/oficios_cvs_descargados/\",\n",
    "    mode=\"overwrite\",\n",
    "    dtype={\n",
    "        \"fecha_alta\" : \"date\"\n",
    "    },\n",
    "    dataset=True\n",
    ")"
   ]
  },
  {
   "cell_type": "code",
   "execution_count": null,
   "metadata": {},
   "outputs": [],
   "source": [
    "# Punto 2\n",
    "\n",
    "df = query(\n",
    "    \"\"\"\n",
    "SELECT\n",
    "    CONCAT(per.NUM_DOCUMENTO, '-', per.DIGITO_VERIFICADOR) as rut,\n",
    "    regiones.NOMBRE as region,\n",
    "    comunas.NOMBRE as comuna,\n",
    "    COUNT(media.ID  ) as ed_media,\n",
    "    COUNT(cursos.ID) as cursos,\n",
    "    COUNT(superior.ID ) as ed_superior\n",
    "FROM dbo.PER_PERSONAS per\n",
    "LEFT JOIN dbo.CCHC_PERSONA_EMTP media ON media.ID_PERSONA = per.ID\n",
    "LEFT JOIN dbo.CCHC_PERSONA_CURSO cursos ON cursos.ID_PERSONA = per.ID\n",
    "LEFT JOIN dbo.CCHC_PERSONA_ETESUP superior ON superior.ID_PERSONA = per.ID\n",
    "LEFT JOIN dbo.BNE_REGIONES regiones ON regiones.id = per.ID_REGION\n",
    "LEFT JOIN dbo.BNE_COMUNAS comunas ON comunas.id = per.ID_COMUNA\n",
    "GROUP BY CONCAT(per.NUM_DOCUMENTO, '-', per.DIGITO_VERIFICADOR), regiones.NOMBRE, comunas.NOMBRE\n",
    "HAVING COUNT(media.ID  ) > 0\n",
    "    OR COUNT(cursos.ID) > 0\n",
    "    OR COUNT(superior.ID ) > 0;\n",
    "\"\"\"\n",
    ")\n",
    "\n",
    "df.head()\n"
   ]
  },
  {
   "cell_type": "code",
   "execution_count": null,
   "metadata": {},
   "outputs": [],
   "source": [
    "geografia = wr.s3.read_parquet(\"s3://cchc-dw-qa-analytics/geografia_variaciones/\",columns=['region','comuna'])\n",
    "geografia"
   ]
  },
  {
   "cell_type": "code",
   "execution_count": null,
   "metadata": {},
   "outputs": [],
   "source": [
    "##staging\n",
    "df2 = df.copy()\n",
    "\n",
    "df2.loc[df2.ed_media > 0, \"tiene_ed_media\"] = True\n",
    "df2.loc[df2.cursos > 0, \"tiene_cursos\"] = True\n",
    "df2.loc[df2.ed_superior > 0, \"tiene_ed_superior\"] = True\n",
    "\n",
    "df2.fillna({\n",
    "    \"tiene_ed_media\" : False,\n",
    "    \"tiene_cursos\" : False,\n",
    "    \"tiene_ed_superior\" : False,\n",
    "}, inplace=True)"
   ]
  },
  {
   "cell_type": "code",
   "execution_count": null,
   "metadata": {},
   "outputs": [],
   "source": [
    "import unicodedata\n",
    "\n",
    "\n",
    "def convertir_ascii(campo):\n",
    "    if campo is None:\n",
    "        return None\n",
    "\n",
    "    campo = unicodedata.normalize('NFKD', campo).encode('ascii', 'ignore').decode('UTF-8').lower()\n",
    "    return campo\n",
    "\n",
    "\n",
    "dic = {\n",
    "\"Los Lagos\":\"Los Lagos\",\n",
    " \"Valparaíso\":\"Valparaíso\",\n",
    " \"Metropolitana\":\"Metropolitana de Santiago\",\n",
    " \"O'Higgins\": \"Libertador General Bernardo O'Higgins\",\n",
    " \"Antofagasta\":\"Antofagasta\",\n",
    " \"Maule\":\"Maule\",\n",
    " \"La Araucanía\":\"La Araucanía\",\n",
    " \"Coquimbo\":\"Coquimbo\",\n",
    " \"Bío Bío\":\"Biobío\",\n",
    " \"Atacama\":\"Atacama\",\n",
    " \"Los Ríos\":\"Los Ríos\",\n",
    " \"Arica y Parinacota\":\"Arica y Parinacota\",\n",
    " \"Tarapacá\":\"Tarapacá\",\n",
    " \"Magallanes y Antártica Chilena\":\"Magallanes y de la Antártica Chilena\",\n",
    " \"Ñuble\":\"Ñuble\",\n",
    " \"Aysén\": \"Aysén del General Carlos Ibáñez del Campo\"}\n",
    " \n",
    "\n",
    "\n",
    "###ACA ABAJO ANALYTICS\n",
    "\n",
    "dfsinComuna = df2[(df2.comuna.isnull()) & (df2.region != 'MIGRACION')]\n",
    "dfComuna = df2[(df2.comuna.notnull())]\n",
    "\n",
    "dfComuna.drop(columns=['region'], inplace=True)\n",
    "dfComuna['comunaAsci'] = dfComuna['comuna'].apply(lambda x: convertir_ascii(x))\n",
    "geografia['comunaAsci'] = geografia['comuna'].apply(lambda x: convertir_ascii(x))\n",
    "\n",
    "dfComuna = dfComuna.merge(geografia[['comunaAsci','region']], how='left', on='comunaAsci')\n",
    "\n",
    "\n",
    "dfsinComuna['region'] = dfsinComuna.region.map(dic)\n",
    "\n",
    "df2 = pd.concat([dfsinComuna,dfComuna])\n",
    "\n",
    "df2.drop(columns=[\"comunaAsci\",\"ed_media\", \"cursos\", \"ed_superior\"], inplace=True)\n",
    "\n",
    "df2\n",
    "\n",
    "\n",
    "\n"
   ]
  },
  {
   "cell_type": "code",
   "execution_count": null,
   "metadata": {},
   "outputs": [],
   "source": [
    "wr.s3.to_parquet(\n",
    "    df=df,\n",
    "    database=\"raw_dev\",\n",
    "    table=\"bne_nivel_estudios\",\n",
    "    path=\"s3://cchc-dw-dev-raw/bne/bne_nivel_estudios/\",\n",
    "    mode=\"overwrite\",\n",
    "    dataset=True\n",
    ")"
   ]
  },
  {
   "cell_type": "code",
   "execution_count": null,
   "metadata": {},
   "outputs": [],
   "source": [
    "df = query('''SELECT COUNT(*) as CONTEO, EVALUACION FROM dbo.CCHC_EVALUACION\n",
    "GROUP BY EVALUACION''')\n",
    "\n",
    "df"
   ]
  },
  {
   "cell_type": "code",
   "execution_count": null,
   "metadata": {},
   "outputs": [],
   "source": [
    "wr.s3.to_parquet(\n",
    "    df=df,\n",
    "    database=\"raw_dev\",\n",
    "    table=\"bne_evaluaciones\",\n",
    "    path=\"s3://cchc-dw-dev-raw/bne/bne_evaluaciones/\",\n",
    "    mode=\"overwrite\",\n",
    "    dataset=True\n",
    ")"
   ]
  }
 ],
 "metadata": {
  "kernelspec": {
   "display_name": "Python 3",
   "language": "python",
   "name": "python3"
  },
  "language_info": {
   "codemirror_mode": {
    "name": "ipython",
    "version": 3
   },
   "file_extension": ".py",
   "mimetype": "text/x-python",
   "name": "python",
   "nbconvert_exporter": "python",
   "pygments_lexer": "ipython3",
   "version": "3.10.6"
  },
  "orig_nbformat": 4,
  "vscode": {
   "interpreter": {
    "hash": "369f2c481f4da34e4445cda3fffd2e751bd1c4d706f27375911949ba6bb62e1c"
   }
  }
 },
 "nbformat": 4,
 "nbformat_minor": 2
}
