{
 "cells": [
  {
   "cell_type": "code",
   "execution_count": null,
   "metadata": {},
   "outputs": [],
   "source": [
    "import awswrangler as wr\n",
    "import pandas as pd\n",
    "import datetime"
   ]
  },
  {
   "cell_type": "code",
   "execution_count": null,
   "metadata": {},
   "outputs": [],
   "source": [
    "dfOriginal = wr.s3.read_parquet(path='s3://cchc-dw-qa-analytics/ts_real_presupuesto_gerencias/')\n",
    "\n",
    "dfOriginal.columns.to_list()"
   ]
  },
  {
   "cell_type": "code",
   "execution_count": null,
   "metadata": {},
   "outputs": [],
   "source": [
    "df = dfOriginal.copy()\n",
    "\n",
    "df = df[(df.cr_nombre == 'CÁMARAS REGIONALES') & (df.fecha > '2021-01-01')]\n",
    "#df = df[(df.area == 'CÁMARAS REGIONALES') & (df.fecha != 2023)]\n",
    "\n",
    "df"
   ]
  },
  {
   "cell_type": "code",
   "execution_count": null,
   "metadata": {},
   "outputs": [],
   "source": [
    "dfBNE = wr.s3.read_parquet(path='s3://cchc-dw-qa-analytics/bne_trabajadores/')"
   ]
  },
  {
   "cell_type": "code",
   "execution_count": null,
   "metadata": {},
   "outputs": [],
   "source": [
    "df = dfBNE.copy()\n",
    "\n",
    "df.columns.to_list()"
   ]
  },
  {
   "attachments": {},
   "cell_type": "markdown",
   "metadata": {},
   "source": [
    "8/2 \n",
    "WORK"
   ]
  },
  {
   "cell_type": "code",
   "execution_count": null,
   "metadata": {},
   "outputs": [],
   "source": [
    "dfBNE = wr.s3.read_parquet(path='s3://cchc-dw-dev-raw/bne/oficios_cvs_descargados/')\n",
    "\n",
    "\n",
    "dfBNE\n",
    "\n",
    "#antes del filtro sector 5821\n"
   ]
  },
  {
   "cell_type": "code",
   "execution_count": null,
   "metadata": {},
   "outputs": [],
   "source": [
    "df = wr.s3.read_parquet(path='s3://cchc-dw-dev-raw/bne/bne_usuarios_empresas/')\n",
    "\n",
    "df = df[df.is_activo == True]\n",
    "\n",
    "df\n",
    "#151 registros"
   ]
  },
  {
   "cell_type": "markdown",
   "metadata": {},
   "source": []
  },
  {
   "cell_type": "code",
   "execution_count": null,
   "metadata": {},
   "outputs": [],
   "source": [
    "sii = wr.s3.read_parquet(path='s3://cchc-dw-qa-analytics/sii_socios_insolvencia/', columns=[\"rut\",\"razon_social\",\"tamano_de_empresa\",\"rubro_economico\",\"subrubro_economico\",\"socio_cchc\",\"estado\"])\n",
    "bolcon = wr.s3.read_parquet(path=\"s3://cchc-dw-dev-staging/boletin_concursal/insolvencias/\")"
   ]
  },
  {
   "cell_type": "code",
   "execution_count": null,
   "metadata": {},
   "outputs": [],
   "source": [
    "dfSii = sii.copy()\n",
    "dfBolcon = bolcon.copy()\n",
    "\n",
    "dfSii = dfSii[dfSii.estado == 'ACTIVO']\n",
    "dfSii.fillna(value={'rut':-1})\n",
    "\n",
    "\n",
    "dfSii = dfSii.drop_duplicates(subset=['rut'],keep='last')\n",
    "df = dfBolcon.merge(dfSii,'left','rut')\n",
    "\n",
    "#listadf=df.rut.drop_duplicates().to_list()\n",
    "df = df[df.estado == 'ACTIVO']\n",
    "\n",
    "df\n",
    "#listaBolcon=dfBolcon.rut.drop_duplicates().to_list()\n",
    "\n",
    "#df = df[df.rut.isnull()]\n",
    "#for element in listadf:\n",
    "#    if element not in listaBolcon:\n",
    "#        print(element)\n",
    "\n",
    "#print(\"bolcon: \",len(bolcon), \" sii: \",len(sii), \" df: \" ,len(df))"
   ]
  },
  {
   "cell_type": "code",
   "execution_count": null,
   "metadata": {},
   "outputs": [],
   "source": [
    "len(bolcon)\n"
   ]
  },
  {
   "cell_type": "code",
   "execution_count": null,
   "metadata": {},
   "outputs": [],
   "source": [
    "nuevos_df = wr.s3.read_parquet(f\"s3://cchc-dw-dev-raw/_bolcon/insolvencias/year=2022/month=11/day=14/\", dataset=True)\n",
    "nuevos_df[\"fecha_publicacion\"] = pd.to_datetime(nuevos_df.fecha_publicacion, format=\"%d/%m/%Y\")\n",
    "\n",
    "\n",
    "\n",
    "anterior_df = wr.s3.read_parquet(\"s3://cchc-dw-dev-staging/boletin_concursal/insolvencias/\",)\n",
    "\n",
    "ruts_anterior = anterior_df[anterior_df.proceso_finalizado.isnull()].rut.fillna(\"CORRECCION:\" + anterior_df.rol).drop_duplicates().to_list()\n",
    "ruts_nuevos = nuevos_df.rut.fillna(\"CORRECCION:\" + nuevos_df.rol).drop_duplicates().to_list()\n",
    "\n",
    "\n",
    "#Buscar los ruts en el dataframe antiguos que no existan en el nuevo dataframe para marcarlos como finalizados, o sea, ya no son insolventes\n",
    "ruts_finalizados = [x for x in ruts_anterior if x not in ruts_nuevos]\n",
    "\n",
    "anterior_df.loc[ anterior_df.rut.isin(ruts_finalizados), \"fecha_ejecucion\"] = datetime.date(2022, 11, 7).strftime(\"%Y-%m-%d\")\n",
    "anterior_df.loc[ anterior_df.rut.isin(ruts_finalizados),  \"proceso_finalizado\"] = True\n",
    "\n",
    "ruts_nuevos = [x for x in ruts_nuevos if x not in ruts_anterior]\n",
    "nuevos_procesos = nuevos_df[nuevos_df.rut.fillna(\"CORRECCION:\" + nuevos_df.rol).isin(ruts_nuevos)].copy()\n",
    "\n",
    "\n",
    "df = pd.concat([anterior_df, nuevos_procesos])\n",
    "\n",
    "print(\"Agregados\", len(ruts_nuevos), \"registros\")\n",
    "print(ruts_nuevos)\n",
    "print(\"Marcados\", len(ruts_finalizados), \"como finalizados\")\n",
    "\n",
    "sii = wr.s3.read_parquet(path='s3://cchc-dw-qa-analytics/sii_socios_insolvencia/', columns=[\"rut\",\"razon_social\",\"tamano_de_empresa\",\"rubro_economico\",\"subrubro_economico\",\"socio_cchc\",\"estado\"])\n",
    "\n",
    "sii = sii[(sii.estado == 'ACTIVO') & (sii.rut.isin(ruts_nuevos))]\n",
    "sii.fillna(value={'rut':-1})\n",
    "sii = sii.drop_duplicates(subset=['rut'],keep='last')\n",
    "\n",
    "df = df.merge(sii,'left','rut')\n",
    "\n",
    "wr.s3.to_parquet(\n",
    "    df=df,\n",
    "    path=\"s3://cchc-dw-dev-staging/boletin_concursal/insolvencias/\",\n",
    "    dataset=True,\n",
    "    mode=\"overwrite\",\n",
    "    table=\"bolcon_insolvencias_historico\",\n",
    "    database=\"staging_dev\",\n",
    "    schema_evolution=True,\n",
    "    dtype={\n",
    "        \"fecha_ejecucion\" : \"string\",\n",
    "        \"proceso_finalizado\" : \"boolean\"\n",
    "    }\n",
    ")"
   ]
  }
 ],
 "metadata": {
  "kernelspec": {
   "display_name": "Python 3",
   "language": "python",
   "name": "python3"
  },
  "language_info": {
   "codemirror_mode": {
    "name": "ipython",
    "version": 3
   },
   "file_extension": ".py",
   "mimetype": "text/x-python",
   "name": "python",
   "nbconvert_exporter": "python",
   "pygments_lexer": "ipython3",
   "version": "3.10.6"
  },
  "orig_nbformat": 4,
  "vscode": {
   "interpreter": {
    "hash": "369f2c481f4da34e4445cda3fffd2e751bd1c4d706f27375911949ba6bb62e1c"
   }
  }
 },
 "nbformat": 4,
 "nbformat_minor": 2
}
