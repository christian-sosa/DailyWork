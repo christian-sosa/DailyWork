{
 "cells": [
  {
   "cell_type": "code",
   "execution_count": 2,
   "metadata": {},
   "outputs": [],
   "source": [
    "import awswrangler as wr\n",
    "import pandas as pd\n",
    "import datetime"
   ]
  },
  {
   "cell_type": "code",
   "execution_count": null,
   "metadata": {},
   "outputs": [],
   "source": [
    "dfOriginal = wr.s3.read_parquet(path='s3://cchc-dw-qa-analytics/ts_real_presupuesto_gerencias/')\n",
    "\n",
    "dfOriginal.columns.to_list()"
   ]
  },
  {
   "cell_type": "code",
   "execution_count": null,
   "metadata": {},
   "outputs": [],
   "source": [
    "df = dfOriginal.copy()\n",
    "\n",
    "df = df[(df.cr_nombre == 'CÁMARAS REGIONALES') & (df.fecha > '2021-01-01')]\n",
    "#df = df[(df.area == 'CÁMARAS REGIONALES') & (df.fecha != 2023)]\n",
    "\n",
    "df"
   ]
  },
  {
   "cell_type": "code",
   "execution_count": null,
   "metadata": {},
   "outputs": [],
   "source": [
    "dfBNE = wr.s3.read_parquet(path='s3://cchc-dw-qa-analytics/bne_trabajadores/')"
   ]
  },
  {
   "cell_type": "code",
   "execution_count": null,
   "metadata": {},
   "outputs": [],
   "source": [
    "df = dfBNE.copy()\n",
    "\n",
    "df.columns.to_list()"
   ]
  },
  {
   "attachments": {},
   "cell_type": "markdown",
   "metadata": {},
   "source": [
    "8/2 \n",
    "WORK"
   ]
  },
  {
   "cell_type": "code",
   "execution_count": 5,
   "metadata": {},
   "outputs": [
    {
     "data": {
      "text/html": [
       "<div>\n",
       "<style scoped>\n",
       "    .dataframe tbody tr th:only-of-type {\n",
       "        vertical-align: middle;\n",
       "    }\n",
       "\n",
       "    .dataframe tbody tr th {\n",
       "        vertical-align: top;\n",
       "    }\n",
       "\n",
       "    .dataframe thead th {\n",
       "        text-align: right;\n",
       "    }\n",
       "</style>\n",
       "<table border=\"1\" class=\"dataframe\">\n",
       "  <thead>\n",
       "    <tr style=\"text-align: right;\">\n",
       "      <th></th>\n",
       "      <th>fecha_alta</th>\n",
       "      <th>comuna</th>\n",
       "      <th>region</th>\n",
       "      <th>total</th>\n",
       "      <th>ocupacion</th>\n",
       "    </tr>\n",
       "  </thead>\n",
       "  <tbody>\n",
       "    <tr>\n",
       "      <th>0</th>\n",
       "      <td>2021-03-12</td>\n",
       "      <td>Antofagasta</td>\n",
       "      <td>Antofagasta</td>\n",
       "      <td>3</td>\n",
       "      <td>&lt;NA&gt;</td>\n",
       "    </tr>\n",
       "    <tr>\n",
       "      <th>1</th>\n",
       "      <td>2021-03-13</td>\n",
       "      <td>Viña del Mar</td>\n",
       "      <td>Valparaíso</td>\n",
       "      <td>2</td>\n",
       "      <td>&lt;NA&gt;</td>\n",
       "    </tr>\n",
       "    <tr>\n",
       "      <th>2</th>\n",
       "      <td>2021-03-16</td>\n",
       "      <td>Viña del Mar</td>\n",
       "      <td>Valparaíso</td>\n",
       "      <td>2</td>\n",
       "      <td>&lt;NA&gt;</td>\n",
       "    </tr>\n",
       "    <tr>\n",
       "      <th>3</th>\n",
       "      <td>2021-03-31</td>\n",
       "      <td>Antofagasta</td>\n",
       "      <td>Antofagasta</td>\n",
       "      <td>1</td>\n",
       "      <td>&lt;NA&gt;</td>\n",
       "    </tr>\n",
       "    <tr>\n",
       "      <th>4</th>\n",
       "      <td>2021-04-05</td>\n",
       "      <td>Santiago</td>\n",
       "      <td>Metropolitana</td>\n",
       "      <td>9</td>\n",
       "      <td>&lt;NA&gt;</td>\n",
       "    </tr>\n",
       "    <tr>\n",
       "      <th>...</th>\n",
       "      <td>...</td>\n",
       "      <td>...</td>\n",
       "      <td>...</td>\n",
       "      <td>...</td>\n",
       "      <td>...</td>\n",
       "    </tr>\n",
       "    <tr>\n",
       "      <th>5816</th>\n",
       "      <td>2023-01-03</td>\n",
       "      <td>Quilpué</td>\n",
       "      <td>Valparaíso</td>\n",
       "      <td>1</td>\n",
       "      <td>Maestro(a) obras civiles</td>\n",
       "    </tr>\n",
       "    <tr>\n",
       "      <th>5817</th>\n",
       "      <td>2023-01-03</td>\n",
       "      <td>Quilpué</td>\n",
       "      <td>Valparaíso</td>\n",
       "      <td>5</td>\n",
       "      <td>Prevencionista de riesgo</td>\n",
       "    </tr>\n",
       "    <tr>\n",
       "      <th>5818</th>\n",
       "      <td>2023-01-03</td>\n",
       "      <td>Talcahuano</td>\n",
       "      <td>Bío Bío</td>\n",
       "      <td>1</td>\n",
       "      <td>Ayudante de faena seca</td>\n",
       "    </tr>\n",
       "    <tr>\n",
       "      <th>5819</th>\n",
       "      <td>2023-01-03</td>\n",
       "      <td>Talcahuano</td>\n",
       "      <td>Bío Bío</td>\n",
       "      <td>4</td>\n",
       "      <td>Capataz de obra gruesa y obras preliminares</td>\n",
       "    </tr>\n",
       "    <tr>\n",
       "      <th>5820</th>\n",
       "      <td>2023-01-03</td>\n",
       "      <td>Talcahuano</td>\n",
       "      <td>Bío Bío</td>\n",
       "      <td>4</td>\n",
       "      <td>Jefe(a) de obra</td>\n",
       "    </tr>\n",
       "  </tbody>\n",
       "</table>\n",
       "<p>5821 rows × 5 columns</p>\n",
       "</div>"
      ],
      "text/plain": [
       "      fecha_alta        comuna         region  total  \\\n",
       "0     2021-03-12   Antofagasta    Antofagasta      3   \n",
       "1     2021-03-13  Viña del Mar     Valparaíso      2   \n",
       "2     2021-03-16  Viña del Mar     Valparaíso      2   \n",
       "3     2021-03-31   Antofagasta    Antofagasta      1   \n",
       "4     2021-04-05      Santiago  Metropolitana      9   \n",
       "...          ...           ...            ...    ...   \n",
       "5816  2023-01-03       Quilpué     Valparaíso      1   \n",
       "5817  2023-01-03       Quilpué     Valparaíso      5   \n",
       "5818  2023-01-03    Talcahuano        Bío Bío      1   \n",
       "5819  2023-01-03    Talcahuano        Bío Bío      4   \n",
       "5820  2023-01-03    Talcahuano        Bío Bío      4   \n",
       "\n",
       "                                        ocupacion  \n",
       "0                                            <NA>  \n",
       "1                                            <NA>  \n",
       "2                                            <NA>  \n",
       "3                                            <NA>  \n",
       "4                                            <NA>  \n",
       "...                                           ...  \n",
       "5816                     Maestro(a) obras civiles  \n",
       "5817                     Prevencionista de riesgo  \n",
       "5818                       Ayudante de faena seca  \n",
       "5819  Capataz de obra gruesa y obras preliminares  \n",
       "5820                              Jefe(a) de obra  \n",
       "\n",
       "[5821 rows x 5 columns]"
      ]
     },
     "execution_count": 5,
     "metadata": {},
     "output_type": "execute_result"
    }
   ],
   "source": [
    "dfBNE = wr.s3.read_parquet(path='s3://cchc-dw-dev-raw/bne/oficios_cvs_descargados/')\n",
    "\n",
    "\n",
    "dfBNE\n",
    "\n",
    "#antes del filtro sector 5821\n"
   ]
  },
  {
   "cell_type": "code",
   "execution_count": null,
   "metadata": {},
   "outputs": [],
   "source": [
    "df = wr.s3.read_parquet(path='s3://cchc-dw-dev-raw/bne/bne_usuarios_empresas/')\n",
    "\n",
    "df = df[df.is_activo == True]\n",
    "\n",
    "df\n",
    "#151 registros"
   ]
  },
  {
   "cell_type": "markdown",
   "metadata": {},
   "source": []
  },
  {
   "cell_type": "code",
   "execution_count": 3,
   "metadata": {},
   "outputs": [],
   "source": [
    "sii = wr.s3.read_parquet(path='s3://cchc-dw-qa-analytics/sii_socios_insolvencia/', columns=[\"rut\",\"razon_social\",\"tamano_de_empresa\",\"rubro_economico\",\"subrubro_economico\",\"socio_cchc\",\"estado\"])\n",
    "bolcon = wr.s3.read_parquet(path=\"s3://cchc-dw-dev-staging/boletin_concursal/insolvencias/\")"
   ]
  },
  {
   "cell_type": "code",
   "execution_count": null,
   "metadata": {},
   "outputs": [],
   "source": [
    "dfSii = sii.copy()\n",
    "dfBolcon = bolcon.copy()\n",
    "\n",
    "dfSii = dfSii[dfSii.estado == 'ACTIVO']\n",
    "dfSii.fillna(value={'rut':-1})\n",
    "\n",
    "\n",
    "dfSii = dfSii.drop_duplicates(subset=['rut'],keep='last')\n",
    "df = dfBolcon.merge(dfSii,'left','rut')\n",
    "\n",
    "#listadf=df.rut.drop_duplicates().to_list()\n",
    "df = df[df.estado == 'ACTIVO']\n",
    "\n",
    "df\n",
    "#listaBolcon=dfBolcon.rut.drop_duplicates().to_list()\n",
    "\n",
    "#df = df[df.rut.isnull()]\n",
    "#for element in listadf:\n",
    "#    if element not in listaBolcon:\n",
    "#        print(element)\n",
    "\n",
    "#print(\"bolcon: \",len(bolcon), \" sii: \",len(sii), \" df: \" ,len(df))"
   ]
  },
  {
   "cell_type": "code",
   "execution_count": 4,
   "metadata": {},
   "outputs": [
    {
     "data": {
      "text/plain": [
       "604847"
      ]
     },
     "execution_count": 4,
     "metadata": {},
     "output_type": "execute_result"
    }
   ],
   "source": [
    "len(bolcon)\n"
   ]
  },
  {
   "cell_type": "code",
   "execution_count": 72,
   "metadata": {},
   "outputs": [
    {
     "name": "stdout",
     "output_type": "stream",
     "text": [
      "Agregados 72 registros\n",
      "['21561866-8', '13310748-7', '17475123-4', '17610139-3', '17009271-6', '76449287-0', '13543878-2', '17930790-1', '18508257-1', '76247325-9', '10315427-8', '16210418-7', '76380036-9', '76214882-K', '15152189-4', '17835536-8', '76070355-9', '16383501-0', '80207900-1', '18389155-3', '16875658-5', '18616900-K', '16225685-8', '16732454-1', '8995704-4', '16827277-4', '16008954-7', '15530837-0', '13516007-5', '12182905-3', '16572113-6', '18909250-4', '13716784-0', '8718942-2', '18416051-K', '8470860-7', '13772221-6', '15547491-2', '14284526-1', '26083549-1', '12880547-8', '16865915-6', '16348498-6', '8750043-8', '25112487-6', '10121003-0', '14260920-7', '14344327-2', '11709640-8', '16058081-K', '18155737-0', '12560878-7', '16010029-K', '16319016-8', '13995266-9', '15411535-8', '76942802-k', '76133054-3', '76771987-6', '15598980-7', '11180044-8', '76404432-0', '12018435-0', '76524928-7', '17973583-0', '83311400-K', '76292422-6', '76741243-6', '19345080-6', '15668419-8', '15365844-7', '7429302-6']\n",
      "Marcados 124 como finalizados\n"
     ]
    },
    {
     "data": {
      "text/plain": [
       "{'paths': ['s3://cchc-dw-dev-staging/boletin_concursal/insolvencias/fad0689f5d934a328912bbadfc9b2f5c.snappy.parquet'],\n",
       " 'partitions_values': {}}"
      ]
     },
     "execution_count": 72,
     "metadata": {},
     "output_type": "execute_result"
    }
   ],
   "source": [
    "nuevos_df = wr.s3.read_parquet(f\"s3://cchc-dw-dev-raw/_bolcon/insolvencias/year=2022/month=11/day=14/\", dataset=True)\n",
    "nuevos_df[\"fecha_publicacion\"] = pd.to_datetime(nuevos_df.fecha_publicacion, format=\"%d/%m/%Y\")\n",
    "\n",
    "\n",
    "\n",
    "anterior_df = wr.s3.read_parquet(\"s3://cchc-dw-dev-staging/boletin_concursal/insolvencias/\",)\n",
    "\n",
    "ruts_anterior = anterior_df[anterior_df.proceso_finalizado.isnull()].rut.fillna(\"CORRECCION:\" + anterior_df.rol).drop_duplicates().to_list()\n",
    "ruts_nuevos = nuevos_df.rut.fillna(\"CORRECCION:\" + nuevos_df.rol).drop_duplicates().to_list()\n",
    "\n",
    "\n",
    "#Buscar los ruts en el dataframe antiguos que no existan en el nuevo dataframe para marcarlos como finalizados, o sea, ya no son insolventes\n",
    "ruts_finalizados = [x for x in ruts_anterior if x not in ruts_nuevos]\n",
    "\n",
    "anterior_df.loc[ anterior_df.rut.isin(ruts_finalizados), \"fecha_ejecucion\"] = datetime.date(2022, 11, 7).strftime(\"%Y-%m-%d\")\n",
    "anterior_df.loc[ anterior_df.rut.isin(ruts_finalizados),  \"proceso_finalizado\"] = True\n",
    "\n",
    "ruts_nuevos = [x for x in ruts_nuevos if x not in ruts_anterior]\n",
    "nuevos_procesos = nuevos_df[nuevos_df.rut.fillna(\"CORRECCION:\" + nuevos_df.rol).isin(ruts_nuevos)].copy()\n",
    "\n",
    "\n",
    "df = pd.concat([anterior_df, nuevos_procesos])\n",
    "\n",
    "print(\"Agregados\", len(ruts_nuevos), \"registros\")\n",
    "print(ruts_nuevos)\n",
    "print(\"Marcados\", len(ruts_finalizados), \"como finalizados\")\n",
    "\n",
    "sii = wr.s3.read_parquet(path='s3://cchc-dw-qa-analytics/sii_socios_insolvencia/', columns=[\"rut\",\"razon_social\",\"tamano_de_empresa\",\"rubro_economico\",\"subrubro_economico\",\"socio_cchc\",\"estado\"])\n",
    "\n",
    "sii = sii[(sii.estado == 'ACTIVO') & (sii.rut.isin(ruts_nuevos))]\n",
    "sii.fillna(value={'rut':-1})\n",
    "sii = sii.drop_duplicates(subset=['rut'],keep='last')\n",
    "\n",
    "df = df.merge(sii,'left','rut')\n",
    "\n",
    "wr.s3.to_parquet(\n",
    "    df=df,\n",
    "    path=\"s3://cchc-dw-dev-staging/boletin_concursal/insolvencias/\",\n",
    "    dataset=True,\n",
    "    mode=\"overwrite\",\n",
    "    table=\"bolcon_insolvencias_historico\",\n",
    "    database=\"staging_dev\",\n",
    "    schema_evolution=True,\n",
    "    dtype={\n",
    "        \"fecha_ejecucion\" : \"string\",\n",
    "        \"proceso_finalizado\" : \"boolean\"\n",
    "    }\n",
    ")"
   ]
  }
 ],
 "metadata": {
  "kernelspec": {
   "display_name": "Python 3",
   "language": "python",
   "name": "python3"
  },
  "language_info": {
   "codemirror_mode": {
    "name": "ipython",
    "version": 3
   },
   "file_extension": ".py",
   "mimetype": "text/x-python",
   "name": "python",
   "nbconvert_exporter": "python",
   "pygments_lexer": "ipython3",
   "version": "3.10.6"
  },
  "orig_nbformat": 4,
  "vscode": {
   "interpreter": {
    "hash": "369f2c481f4da34e4445cda3fffd2e751bd1c4d706f27375911949ba6bb62e1c"
   }
  }
 },
 "nbformat": 4,
 "nbformat_minor": 2
}
