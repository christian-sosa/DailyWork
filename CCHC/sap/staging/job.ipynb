{
 "cells": [
  {
   "cell_type": "code",
   "execution_count": null,
   "metadata": {},
   "outputs": [],
   "source": [
    "import awswrangler as wr\n",
    "import pandas as pd"
   ]
  },
  {
   "cell_type": "code",
   "execution_count": null,
   "metadata": {},
   "outputs": [],
   "source": [
    "\n",
    "comentarios = wr.s3.read_excel(f\"s3://cchc-dw-qa-raw/landing/tableros_santiago/presupuesto\", sheet_name=\"Comentarios\")\n",
    "\n",
    "\n",
    "comentarios = wr.catalog.sanitize_dataframe_columns_names(comentarios)\n",
    "\n",
    "comentarios"
   ]
  },
  {
   "cell_type": "code",
   "execution_count": null,
   "metadata": {},
   "outputs": [],
   "source": [
    "wr.s3.to_parquet(\n",
    "    df=comentarios,\n",
    "    database=\"staging_dev\",\n",
    "    table=\"ts_comentarios\",\n",
    "    path=f\"s3://cchc-dw-dev-staging/tableros_santiago/comentarios/\",\n",
    "    mode=\"overwrite\",\n",
    "    dataset=True\n",
    ")"
   ]
  }
 ],
 "metadata": {
  "kernelspec": {
   "display_name": "Python 3",
   "language": "python",
   "name": "python3"
  },
  "language_info": {
   "codemirror_mode": {
    "name": "ipython",
    "version": 3
   },
   "file_extension": ".py",
   "mimetype": "text/x-python",
   "name": "python",
   "nbconvert_exporter": "python",
   "pygments_lexer": "ipython3",
   "version": "3.10.6"
  },
  "orig_nbformat": 4,
  "vscode": {
   "interpreter": {
    "hash": "369f2c481f4da34e4445cda3fffd2e751bd1c4d706f27375911949ba6bb62e1c"
   }
  }
 },
 "nbformat": 4,
 "nbformat_minor": 2
}
