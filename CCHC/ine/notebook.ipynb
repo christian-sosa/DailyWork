{
 "cells": [
  {
   "cell_type": "code",
   "execution_count": null,
   "metadata": {},
   "outputs": [],
   "source": [
    "import json\n",
    "import requests\n",
    "import os\n",
    "from datetime import datetime\n",
    "from dateutil import tz\n",
    "import boto3\n",
    "\n",
    "CLT = tz.gettz(\"America/Santiago\")\n",
    "\n",
    "URL = \"https://www.ine.gob.cl/estadisticas/sociales/mercado-laboral/ocupacion-y-desocupacion/getArchivos/\"\n",
    "#RAW_BUCKET = os.getenv(\"RAW_BUCKET\")\n"
   ]
  },
  {
   "cell_type": "code",
   "execution_count": null,
   "metadata": {},
   "outputs": [],
   "source": [
    "\n",
    "now = datetime.now(tz=CLT)\n",
    "year = now.year\n",
    "month = str(now.month).zfill(2)\n",
    "\n",
    "download_filter = []\n",
    "#event.get(\"download_filters\", [])\n",
    "\n",
    "FOLDER_ID = '1270d9b3-5bcb-424c-b08a-180fb99dc5ab'\n",
    "#event.get(\"folder_id\")\n",
    "\n",
    "request_body = {\n",
    "    \"idFolder\" : FOLDER_ID,\n",
    "    \"Content-Type\" : \"multipart/form-data\",\n",
    "    \"Accept\" : \"*/*\"\n",
    "}\n",
    "folderInfo = requests.post(url=URL, data=request_body, timeout=60)\n",
    "\n",
    "if folderInfo.status_code != 200:\n",
    "    raise Exception(\"No se pudo obtener la información del folder del INE\")\n",
    "\n",
    "children = folderInfo.json()[\"documento\"]\n",
    "\n",
    "data = []\n",
    "for child in children:\n",
    "    print(\"Convirtiendo\", child)\n",
    "    item = {\n",
    "        \"title\" : child[\"Titulo\"].replace(\":\", \"-\"),\n",
    "        \"url\" : child[\"Url\"].replace(\"http\", \"https\"),\n",
    "        \"tipo\" : child[\"Tipo\"]\n",
    "    }\n",
    "    if len(download_filter) == 0 or child[\"Titulo\"] in download_filter:\n",
    "        print(\"Agregado archivo\", child[\"Titulo\"], \"a la lista de descargas\")\n",
    "        data.append(item)\n",
    "\n",
    "s3 = boto3.resource(\"s3\")\n",
    "#Descargar datos\n",
    "for archivo in data:\n",
    "    print(\"descargando\", archivo[\"url\"])\n",
    "    ine_file = requests.get(archivo[\"url\"], timeout=60)\n",
    "\n",
    "    file_name = archivo[\"title\"] + archivo[\"tipo\"].lower()\n",
    "    \n",
    "    file_name = file_name.strip()\n",
    "\n",
    "    #open(\"ine/\", \"wb\").write(ine_file.content)\n",
    "\n",
    "    #s3.Object(RAW_BUCKET, f\"landing/INE/year={year}/month={month}/{ file_name }\").upload_file(\"/tmp/\" + file_name)\n"
   ]
  }
 ],
 "metadata": {
  "kernelspec": {
   "display_name": "Python 3",
   "language": "python",
   "name": "python3"
  },
  "language_info": {
   "codemirror_mode": {
    "name": "ipython",
    "version": 3
   },
   "file_extension": ".py",
   "mimetype": "text/x-python",
   "name": "python",
   "nbconvert_exporter": "python",
   "pygments_lexer": "ipython3",
   "version": "3.10.6"
  },
  "orig_nbformat": 4,
  "vscode": {
   "interpreter": {
    "hash": "369f2c481f4da34e4445cda3fffd2e751bd1c4d706f27375911949ba6bb62e1c"
   }
  }
 },
 "nbformat": 4,
 "nbformat_minor": 2
}
