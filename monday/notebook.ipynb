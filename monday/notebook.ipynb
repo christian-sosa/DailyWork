{
 "cells": [
  {
   "cell_type": "code",
   "execution_count": null,
   "metadata": {},
   "outputs": [],
   "source": [
    "import awswrangler as wr\n",
    "import pandas as pd"
   ]
  },
  {
   "cell_type": "code",
   "execution_count": null,
   "metadata": {},
   "outputs": [],
   "source": [
    "dfOriginal = wr.s3.read_parquet(f\"s3://cchc-dw-qa-staging/monday/proyectos/\", dataset=True)"
   ]
  },
  {
   "cell_type": "code",
   "execution_count": null,
   "metadata": {},
   "outputs": [],
   "source": [
    "df = dfOriginal.copy()\n",
    "keep_out = [\n",
    "        \"Antecedentes\",\n",
    "        \"Antecedentes de Proyecto\",\n",
    "        \"Antecedentes de Proyectos\",\n",
    "        \"Antecedentes del Proyecto\",\n",
    "        \"Cabecera\",\n",
    "        ]\n",
    "\n",
    "print(f\"cantidad antes de quitar hitos irrelevantes : {len(df)}\")\n",
    "df = df[~df.nombre_hito.isin(keep_out)]\n",
    "print(f\"cantidad después de quitar hitos irrelevantes : {len(df)}\")\n",
    "\n",
    "df[\"id_proyecto\"] = df.id_proyecto + df.id_tablero\n",
    "\n",
    "id_proyectos = df.id_proyecto.drop_duplicates().to_list()\n",
    "dfAgrupado = df.groupby(by='id_proyecto', as_index=False).agg({'fecha_planificada_inicio': \"min\", \"fecha_planificada_fin\": \"max\" , 'fecha_real_inicio': \"min\", \"fecha_real_fin\": \"max\" })\n",
    "\n",
    "\n",
    "for id in id_proyectos:\n",
    "        df2 = df.copy()\n",
    "        df2 = df2[df2.id_proyecto == id]\n",
    "        df2Agrupado = dfAgrupado[dfAgrupado.id_proyecto == id]\n",
    "        dfFinalizado = df2[df2.is_finalizado == False]\n",
    "        df2 = df2.iloc[0]\n",
    "        df2 = df2.to_frame().T\n",
    "    \n",
    "        if len(dfFinalizado) > 0:\n",
    "                df2['is_finalizado'] = bool(False)\n",
    "        else: \n",
    "                df2['is_finalizado'] = bool(True)\n",
    "                \n",
    "        df2['nombre_hito'] = 'H0: Fecha Proyectos'\n",
    "        df2['fecha_planificada_inicio'] = df2Agrupado.iloc[0].fecha_planificada_inicio\n",
    "        df2['fecha_planificada_fin'] = df2Agrupado.iloc[0].fecha_planificada_fin\n",
    "        df2['fecha_real_inicio'] = df2Agrupado.iloc[0].fecha_real_inicio\n",
    "        df2['fecha_real_fin'] = df2Agrupado.iloc[0].fecha_real_fin\n",
    "        df2['nombre_lider_hito'] = None\n",
    "        df2['gerencia_hito'] = None\n",
    "        df2['id_hito'] = None\n",
    "        df = pd.concat([df ,df2], axis=0, ignore_index=True)\n",
    "\n",
    "df"
   ]
  },
  {
   "cell_type": "code",
   "execution_count": null,
   "metadata": {},
   "outputs": [],
   "source": [
    "response = wr.s3.to_parquet(\n",
    "    df=df,\n",
    "    path=f\"s3://cchc-dw-qa-analytics/monday/proyectos/\",\n",
    "    dataset=True,\n",
    "    table=\"monday_proyectos\",\n",
    "    database=\"analytics_qa\",\n",
    "    mode=\"overwrite\",\n",
    "    dtype={\n",
    "        \"fecha_planificada_inicio\" : \"date\",\n",
    "        \"fecha_planificada_fin\" : \"date\",\n",
    "        \"fecha_real_inicio\" : \"date\",\n",
    "        \"fecha_real_fin\" : \"date\"\n",
    "    }\n",
    ")"
   ]
  }
 ],
 "metadata": {
  "kernelspec": {
   "display_name": "Python 3",
   "language": "python",
   "name": "python3"
  },
  "language_info": {
   "codemirror_mode": {
    "name": "ipython",
    "version": 3
   },
   "file_extension": ".py",
   "mimetype": "text/x-python",
   "name": "python",
   "nbconvert_exporter": "python",
   "pygments_lexer": "ipython3",
   "version": "3.10.6"
  },
  "orig_nbformat": 4,
  "vscode": {
   "interpreter": {
    "hash": "369f2c481f4da34e4445cda3fffd2e751bd1c4d706f27375911949ba6bb62e1c"
   }
  }
 },
 "nbformat": 4,
 "nbformat_minor": 2
}
