{
 "cells": [
  {
   "cell_type": "code",
   "execution_count": 2,
   "metadata": {},
   "outputs": [],
   "source": [
    "import boto3\n",
    "import awswrangler as wr\n",
    "import numpy as np\n",
    "\n",
    "client = boto3.client('s3')\n",
    "escenarios = []\n",
    "path = 'planificacion-y-desarrollo/costo_marginal_proyectado/2021/'"
   ]
  },
  {
   "cell_type": "code",
   "execution_count": null,
   "metadata": {},
   "outputs": [],
   "source": [
    "#s3://cen-ingesta.calidad-raw-dev/planificacion-y-desarrollo/costo_marginal_proyectado/2021/EscA/\n",
    "response = client.list_objects(Bucket=\"cen-ingesta.calidad-raw-dev\", Prefix=path)\n",
    "\n",
    "for k in response[\"Contents\"]:\n",
    "    if path != k['Key']:\n",
    "        escenarios.append(k[\"Key\"].split('/')[3])\n",
    "\n",
    "escenarios = list(set(escenarios))   \n",
    "#or\n",
    "escenarios = np.unique(escenarios)   "
   ]
  },
  {
   "cell_type": "code",
   "execution_count": null,
   "metadata": {},
   "outputs": [],
   "source": [
    "for esc in escenarios:\n",
    "    path = f\"s3://cen-ingesta.calidad-raw-dev/{esc}\"\n",
    "    df = wr.s3.read_parquet(path=)"
   ]
  },
  {
   "cell_type": "code",
   "execution_count": 4,
   "metadata": {},
   "outputs": [
    {
     "name": "stdout",
     "output_type": "stream",
     "text": [
      "<class 'numpy.str_'>\n",
      "<class 'numpy.str_'>\n",
      "<class 'numpy.str_'>\n"
     ]
    }
   ],
   "source": [
    "lista = ['hola','hola2','chau','hola','hola2','chau']\n",
    "\n",
    "lista2 = np.unique(lista)\n",
    "\n",
    "\n",
    "for element in lista2:\n",
    "    print(type(element))"
   ]
  }
 ],
 "metadata": {
  "kernelspec": {
   "display_name": "Python 3",
   "language": "python",
   "name": "python3"
  },
  "language_info": {
   "codemirror_mode": {
    "name": "ipython",
    "version": 3
   },
   "file_extension": ".py",
   "mimetype": "text/x-python",
   "name": "python",
   "nbconvert_exporter": "python",
   "pygments_lexer": "ipython3",
   "version": "3.10.6"
  },
  "orig_nbformat": 4,
  "vscode": {
   "interpreter": {
    "hash": "369f2c481f4da34e4445cda3fffd2e751bd1c4d706f27375911949ba6bb62e1c"
   }
  }
 },
 "nbformat": 4,
 "nbformat_minor": 2
}
