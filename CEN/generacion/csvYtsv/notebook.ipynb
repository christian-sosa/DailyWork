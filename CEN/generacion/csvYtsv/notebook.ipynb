{
 "cells": [
  {
   "cell_type": "code",
   "execution_count": null,
   "metadata": {},
   "outputs": [],
   "source": [
    "import awswrangler as wr\n",
    "import pandas as pd\n",
    "import datetime as dt\n",
    "from dateutil import tz\n",
    "import calendar\n",
    "\n",
    "CLT = tz.gettz(\"America/Santiago\")\n",
    "fecha = dt.datetime.now(tz=CLT).strftime(\"%Y-%m\")\n",
    "\n",
    "fecha"
   ]
  },
  {
   "cell_type": "code",
   "execution_count": null,
   "metadata": {},
   "outputs": [],
   "source": [
    "def read_parquet(df, path):\n",
    "    dfDay = wr.s3.read_parquet(path=path)\n",
    "    df = pd.concat([df,dfDay])\n",
    "    return df"
   ]
  },
  {
   "cell_type": "code",
   "execution_count": null,
   "metadata": {},
   "outputs": [],
   "source": [
    "def getPathsMonth(fecha):\n",
    "    year, month = map(int, fecha.split('-'))\n",
    "    dias_del_mes = calendar.monthrange(year, month)[1]\n",
    "    hoy = dt.datetime.today().day\n",
    "    return [f\"s3://cen-datalake-staging/opreal/generacion_programada/fecha={year}-{month:02d}-{day:02d}/\" for day in range(1, hoy+1) if day <= dias_del_mes]"
   ]
  },
  {
   "cell_type": "code",
   "execution_count": null,
   "metadata": {},
   "outputs": [],
   "source": [
    "paths = getPathsMonth(fecha)\n",
    "\n",
    "df = pd.DataFrame()\n",
    "\n",
    "for path in paths:\n",
    "    try:\n",
    "        df = read_parquet(df, path)\n",
    "    except:\n",
    "        continue\n",
    "    \n",
    "df"
   ]
  }
 ],
 "metadata": {
  "kernelspec": {
   "display_name": "Python 3",
   "language": "python",
   "name": "python3"
  },
  "language_info": {
   "codemirror_mode": {
    "name": "ipython",
    "version": 3
   },
   "file_extension": ".py",
   "mimetype": "text/x-python",
   "name": "python",
   "nbconvert_exporter": "python",
   "pygments_lexer": "ipython3",
   "version": "3.10.6"
  },
  "orig_nbformat": 4,
  "vscode": {
   "interpreter": {
    "hash": "369f2c481f4da34e4445cda3fffd2e751bd1c4d706f27375911949ba6bb62e1c"
   }
  }
 },
 "nbformat": 4,
 "nbformat_minor": 2
}
