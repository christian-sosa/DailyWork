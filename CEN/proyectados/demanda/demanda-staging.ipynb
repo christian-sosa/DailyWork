{
 "cells": [
  {
   "cell_type": "code",
   "execution_count": null,
   "metadata": {},
   "outputs": [],
   "source": [
    "dynamodb = boto3.resource('dynamodb')\n",
    "s3 = boto3.resource('s3')\n",
    "dynamoDBTable = 'cen-ingesta-calidad-dato-dev-config'#os.environ['dynamoDBTable'] \n",
    "\n",
    "element = 'demanda_proyectada'#event['demanda_proyectada']\n",
    "print(element)\n",
    "table = dynamodb.Table(dynamoDBTable)\n",
    "config = table.get_item(\n",
    "        Key={\n",
    "            'CEN': '{}'.format(element)\n",
    "        }\n",
    "    ).get('Item')\n",
    "\n",
    "data = config ['params']\n",
    "data_params = json.loads(data) \n",
    "\n",
    "#Ruta de destino del archivo a escribir:\n",
    "S3_origin = data_params.get('S3_origin')\n",
    "write_mode = data_params.get('write_mode') \n",
    "database = data_params.get('database') \n",
    "print(\"S3_origin: \",S3_origin)\n",
    "print('write_mode: ',write_mode)\n",
    "print('database: ',database)\n",
    "\n",
    "bucketRaw = 'cen-ingesta.calidad-raw-dev'#os.environ['bucketRaw'] \n",
    "bucketStaging = 'cen-ingesta.calidad-staging-dev'#os.environ['bucketStaging'] \n",
    "\n",
    "Boto3bucketRaw = s3.Bucket(bucketRaw)\n"
   ]
  },
  {
   "cell_type": "code",
   "execution_count": null,
   "metadata": {},
   "outputs": [],
   "source": [
    "sheet_name = 'Sheet1'\n",
    "for object_summary in Boto3bucketRaw.objects.filter(Prefix=S3_origin):\n",
    "    if '.xlsx' in object_summary.key:\n",
    "        pathFix = f's3://{bucketRaw}/{object_summary.key}'\n",
    "        df = wr.s3.read_excel(pathFix,sheet_name=sheet_name, dtype={\"BARRA_PROYECCION\":\"string\",\"nombre_barra\":\"string\",\"Año\":\"int\",\"Tag_Mes\":\"string\",\"Mes\":\"int\",\"tipo1\":\"string\",\"sector_economico\":\"string\",\"comuna\":\"string\",\"region\":\"string\",\"Tasa\":\"double\",\"MedidaHoraria2\":\"double\",\"Demanda\":\"double\",\"Modelo\":\"string\",\"Empresa\":\"string\",\"BARRA_PLP\":\"string\",\"BARRA_PCP\":\"string\",\"BARRA_PLEXOS\":\"string\",\"BARRA_PLEXOS_21\":\"string\",\"Factor_bisiesto\":\"int\",\"Reg. Rom.\":\"string\",\"Reg. Num\":\"string\"})\n",
    "        \n",
    "        dest = object_summary.key.split(\"/\")[:-1]\n",
    "        df['year'] = dest[2]\n",
    "        table = dest[3]\n",
    "        pathDest = f's3://{bucketStaging}/{dest[0]}/{dest[1]}/{table}/'\n",
    "        print(pathDest)\n",
    "\n",
    "        wr.s3.to_parquet(\n",
    "            df=df, path=pathDest, index=False,\n",
    "            dataset=True,compression = 'gzip',\n",
    "            mode = write_mode,database=database,\n",
    "            table=table,\n",
    "            partition_cols = [\"year\"])"
   ]
  }
 ],
 "metadata": {
  "kernelspec": {
   "display_name": "Python 3",
   "language": "python",
   "name": "python3"
  },
  "language_info": {
   "codemirror_mode": {
    "name": "ipython",
    "version": 3
   },
   "file_extension": ".py",
   "mimetype": "text/x-python",
   "name": "python",
   "nbconvert_exporter": "python",
   "pygments_lexer": "ipython3",
   "version": "3.10.6"
  },
  "orig_nbformat": 4
 },
 "nbformat": 4,
 "nbformat_minor": 2
}
