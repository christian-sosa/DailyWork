{
 "cells": [
  {
   "cell_type": "code",
   "execution_count": null,
   "metadata": {},
   "outputs": [],
   "source": [
    "import awswrangler as wr\n",
    "import pandas as pd\n",
    "import boto3\n",
    "import datetime as dt\n",
    "import json"
   ]
  },
  {
   "cell_type": "code",
   "execution_count": null,
   "metadata": {},
   "outputs": [],
   "source": [
    "def add_partition_fields(df, formato = '%Y', col = \"year\"):\n",
    "    df['year'] = [x for x in df[col]]\n",
    "    return df"
   ]
  },
  {
   "cell_type": "code",
   "execution_count": null,
   "metadata": {},
   "outputs": [],
   "source": [
    "dynamoDBTable = 'cen-ingesta-calidad-dato-dev-config'\n",
    "element = 'demanda_proyectada'\n",
    "dynamodb = boto3.resource('dynamodb')\n",
    "table = dynamodb.Table(dynamoDBTable)\n",
    "\n",
    "#Lectura del elemento en la tabla de Dynamo:\n",
    "config = table.get_item(\n",
    "        Key={\n",
    "            'CEN': '{}'.format(element)\n",
    "        }\n",
    "    ).get('Item')\n",
    "data = config ['params'] #Dentro de \"params\" se encuentran todos los parámetros necesarios para trabajar con la tabla antes listada.\n",
    "data_params = json.loads(data)\n",
    "\n",
    "ruta_origen_medio = data_params.get('ruta_origen_medio')\n",
    "ruta_origen_alto  = data_params.get('ruta_origen_alto')\n",
    "ruta_destino = data_params.get('ruta_destino')\n",
    "table = data_params.get('table')\n",
    "write_mode = data_params.get('write_mode')\n",
    "database_analytics = data_params.get('database_analytics')\n",
    "#cen-ingesta.calidad-staging-dev\n",
    "\n",
    "particion = str(dt.datetime.now().year - 2)\n",
    "print(particion)\n",
    "\n",
    "ruta_origen_alto = ruta_origen_alto + \"year=\" + particion + \"/\"\n",
    "ruta_origen_medio = ruta_origen_medio + \"year=\" + particion + \"/\"\n",
    "\n",
    "print(ruta_origen_medio)\n",
    "print(ruta_origen_alto)"
   ]
  },
  {
   "cell_type": "code",
   "execution_count": null,
   "metadata": {},
   "outputs": [],
   "source": [
    "today = dt.date.today()\n",
    "year = today.strftime('%Y')\n",
    "\n",
    "df_medio = wr.s3.read_parquet(ruta_origen_medio)\n",
    "df_alto  = wr.s3.read_parquet(ruta_origen_alto)\n",
    "\n",
    "#### Cambiando nombre a columnas \n",
    "columns_medio_alto = {'barra_proyeccion':'nombre_barra_proyeccion', 'nombre_barra':'nombre_barra', 'ano':'year', 'tag_mes':'nombre_mes','MedidaHoraria2':'medida_horaria', 'reg_rom_':'registro_romano', 'reg_num':'registro_numerico' }\n",
    "df_medio.rename(columns = columns_medio_alto, inplace = True )\n",
    "df_alto.rename(columns = columns_medio_alto, inplace = True)\n",
    "df_medio['escenario']='escenario_medio'\n",
    "df_alto['escenario']='escenario_alto'\n",
    "df_resultado = pd.concat([df_medio, df_alto])\n",
    "df_resultado[\"anio\"] =  df_resultado[\"year\"].astype(str)\n",
    "df_resultado = add_partition_fields(df_resultado)\n",
    "df_resultado['yearParticion'] = particion\n",
    "wr.s3.to_parquet(\n",
    "                df=df_resultado, path=ruta_destino, index=False,\n",
    "                dataset=True,compression = 'gzip',\n",
    "                mode = write_mode,database=database_analytics,\n",
    "                table=table,\n",
    "                partition_cols = [\"yearParticion\",\"year\"])"
   ]
  }
 ],
 "metadata": {
  "kernelspec": {
   "display_name": "Python 3",
   "language": "python",
   "name": "python3"
  },
  "language_info": {
   "codemirror_mode": {
    "name": "ipython",
    "version": 3
   },
   "file_extension": ".py",
   "mimetype": "text/x-python",
   "name": "python",
   "nbconvert_exporter": "python",
   "pygments_lexer": "ipython3",
   "version": "3.10.6"
  },
  "orig_nbformat": 4
 },
 "nbformat": 4,
 "nbformat_minor": 2
}
