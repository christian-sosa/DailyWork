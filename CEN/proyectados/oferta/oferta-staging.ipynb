{
 "cells": [
  {
   "cell_type": "code",
   "execution_count": null,
   "metadata": {},
   "outputs": [],
   "source": [
    "import json\n",
    "import datetime as dt\n",
    "import boto3\n",
    "import awswrangler as wr\n",
    "import os\n"
   ]
  },
  {
   "cell_type": "code",
   "execution_count": null,
   "metadata": {},
   "outputs": [],
   "source": [
    "dynamodb = boto3.resource('dynamodb')\n",
    "s3 = boto3.resource('s3')\n",
    "dynamoDBTable = 'cen-ingesta-calidad-dato-dev-config'#os.environ['dynamoDBTable'] \n",
    "\n",
    "element = 'oferta_proyectada'\n",
    "print(element)\n",
    "table = dynamodb.Table(dynamoDBTable)\n",
    "#Lectura del elemento en la tabla de Dynamo:\n",
    "config = table.get_item(\n",
    "        Key={\n",
    "            'CEN': '{}'.format(element)\n",
    "        }\n",
    "    ).get('Item')\n",
    "\n",
    "data = config ['params'] #Dentro de \"params\" se encuentran todos los parámetros necesarios para trabajar con la tabla antes listada.\n",
    "data_params = json.loads(data) # Conversión de json a lista\n",
    "\n",
    "#Ruta de destino del archivo a escribir:\n",
    "S3_origin = data_params.get('S3_origin') \n",
    "write_mode = data_params.get('write_mode') \n",
    "database = data_params.get('database') \n",
    "print(\"S3_origin: \",S3_origin)\n",
    "print('write_mode: ',write_mode)\n",
    "print('database: ',database)\n",
    "\n",
    "bucketRaw = \"cen-ingesta.calidad-raw-dev\"#os.environ['bucketRaw'] \n",
    "bucketStaging = \"cen-ingesta.calidad-staging-dev\"#os.environ['bucketStaging'] \n",
    "\n",
    "Boto3bucketRaw = s3.Bucket(bucketRaw)\n",
    "\n",
    "sheet_name_obras = data_params.get('sheet_name_obras') \n",
    "table = 'Plan_de_Obras'\n"
   ]
  },
  {
   "cell_type": "code",
   "execution_count": null,
   "metadata": {},
   "outputs": [],
   "source": [
    "for object_summary in Boto3bucketRaw.objects.filter(Prefix=S3_origin):\n",
    "    if 'Plan_de_Obras.xlsx' in object_summary.key: \n",
    "        pathFix = f's3://{bucketRaw}/{object_summary.key}'  \n",
    "        print(pathFix)\n",
    "        pathFinal = f's3://{bucketStaging}/planificacion-y-desarrollo/oferta_proyectada/{table}/'   \n",
    "        print(pathFinal)\n",
    "\n",
    "        df = wr.s3.read_excel(pathFix,sheet_name=sheet_name_obras,dtype={\"tecnología\": \"string\", \"región\": \"string\", \"Nombre PLP\": \"string\", \"potencia\": \"int64\", \"Barra PLP\": \"string\", \"Tipo PLP\": \"string\", \"año\": \"int64\", \"escenario\": \"string\"})\n",
    "        df['year'] = str(dt.date.today().year - 2)\n",
    "        print(df.columns)\n",
    "        print(\"1\")\n",
    "        wr.s3.to_parquet(\n",
    "            df=df, path=pathFinal, index=False,\n",
    "            dataset=True,compression = 'gzip',\n",
    "            mode = write_mode,database=database,\n",
    "            table='plan_de_obras',\n",
    "            partition_cols = [\"year\"])"
   ]
  },
  {
   "cell_type": "code",
   "execution_count": null,
   "metadata": {},
   "outputs": [],
   "source": [
    "today = str(dt.date.today().year - 1)\n",
    "#year = today.strftime('%Y')\n",
    "\n",
    "today"
   ]
  }
 ],
 "metadata": {
  "kernelspec": {
   "display_name": "Python 3",
   "language": "python",
   "name": "python3"
  },
  "language_info": {
   "codemirror_mode": {
    "name": "ipython",
    "version": 3
   },
   "file_extension": ".py",
   "mimetype": "text/x-python",
   "name": "python",
   "nbconvert_exporter": "python",
   "pygments_lexer": "ipython3",
   "version": "3.10.6"
  },
  "orig_nbformat": 4
 },
 "nbformat": 4,
 "nbformat_minor": 2
}
