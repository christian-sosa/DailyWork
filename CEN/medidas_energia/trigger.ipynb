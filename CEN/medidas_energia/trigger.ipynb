{
 "cells": [
  {
   "cell_type": "code",
   "execution_count": null,
   "metadata": {},
   "outputs": [],
   "source": [
    "import awswrangler as wr\n",
    "import pandas as pd\n",
    "import csv\n",
    "import boto3\n",
    "import io\n",
    "\n",
    "s3 = boto3.client(\"s3\")"
   ]
  },
  {
   "cell_type": "code",
   "execution_count": null,
   "metadata": {},
   "outputs": [],
   "source": [
    "dfOriginal = wr.s3.read_parquet(path='s3://cen-ingesta.calidad-raw-dev/replica/reading_detail/', columns=['ID_READING_DETAIL','NOINS','NOINTERVALS','IS_ACTIVE'])\n"
   ]
  },
  {
   "attachments": {},
   "cell_type": "markdown",
   "metadata": {},
   "source": [
    "select *  from PRIME_V10.dbo.READING_DETAIL rd\n",
    "where NOINTERVALS  != 1  and IS_ACTIVE = 1;"
   ]
  },
  {
   "cell_type": "code",
   "execution_count": null,
   "metadata": {},
   "outputs": [],
   "source": [
    "def partir_lista(lista):\n",
    "    tamano_maximo = 100\n",
    "    num_sublistas = (len(lista) + tamano_maximo - 1) // tamano_maximo  # Redondeo hacia arriba\n",
    "    \n",
    "    sublistas = []\n",
    "    for i in range(num_sublistas):\n",
    "        inicio = i * tamano_maximo\n",
    "        fin = (i + 1) * tamano_maximo\n",
    "        sublista = lista[inicio:fin]\n",
    "        sublistas.append(sublista)\n",
    "    \n",
    "    return sublistas"
   ]
  },
  {
   "cell_type": "code",
   "execution_count": null,
   "metadata": {},
   "outputs": [],
   "source": [
    "df = dfOriginal.copy()\n",
    "\n",
    "df = df[(df.NOINTERVALS != 1) & (df.IS_ACTIVE == 1)]\n",
    "df.drop_duplicates(['NOINS'], inplace=True)\n",
    "\n",
    "lista = df.NOINS.to_list()\n",
    "\n",
    "lista = partir_lista(lista)\n"
   ]
  },
  {
   "cell_type": "code",
   "execution_count": null,
   "metadata": {},
   "outputs": [],
   "source": [
    "csv_file = io.StringIO()\n",
    "    \n",
    "# write data to CSV\n",
    "writer = csv.writer(csv_file)\n",
    "for row in lista:\n",
    "    writer.writerow(row)\n",
    "\n",
    "s3.put_object(Body=csv_file.getvalue(), Bucket='cen-ingesta.calidad-raw-dev', Key='replica/medidores/medidores.csv')"
   ]
  },
  {
   "cell_type": "code",
   "execution_count": null,
   "metadata": {},
   "outputs": [],
   "source": [
    "file = open('result.csv', 'w')\n",
    "\n",
    "for index,line in enumerate(lista):\n",
    "    line = str(line)\n",
    "    line = line.replace(\"[\",\"(\").replace(\"]\",\")\")\n",
    "    #line = line.replace(\"]\",\")\")\n",
    "    group_name = \"Group \"+str(index)\n",
    "    file.write(line+\";\"+group_name+\"\\n\")\n",
    "    # Closing file\n",
    "file.close()\n",
    "\n",
    "with open('result.csv', 'rb') as file:\n",
    "    s3.put_object(Body=file, Bucket='cen-ingesta.calidad-raw-dev', Key='replica/medidores/medidores.csv')\n",
    "\n"
   ]
  }
 ],
 "metadata": {
  "kernelspec": {
   "display_name": "Python 3",
   "language": "python",
   "name": "python3"
  },
  "language_info": {
   "codemirror_mode": {
    "name": "ipython",
    "version": 3
   },
   "file_extension": ".py",
   "mimetype": "text/x-python",
   "name": "python",
   "nbconvert_exporter": "python",
   "pygments_lexer": "ipython3",
   "version": "3.10.6"
  },
  "orig_nbformat": 4,
  "vscode": {
   "interpreter": {
    "hash": "369f2c481f4da34e4445cda3fffd2e751bd1c4d706f27375911949ba6bb62e1c"
   }
  }
 },
 "nbformat": 4,
 "nbformat_minor": 2
}
