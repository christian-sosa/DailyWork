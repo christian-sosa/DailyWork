{
 "cells": [
  {
   "cell_type": "code",
   "execution_count": null,
   "metadata": {},
   "outputs": [],
   "source": [
    "import awswrangler as wr\n",
    "import pandas as pd\n",
    "import boto3"
   ]
  },
  {
   "cell_type": "code",
   "execution_count": null,
   "metadata": {},
   "outputs": [],
   "source": [
    "df = wr.s3.read_parquet(\"s3://cen-ingesta.calidad-raw-dev/infotecnica/geografia_comunas/\")\n",
    "\n",
    "df"
   ]
  },
  {
   "cell_type": "code",
   "execution_count": null,
   "metadata": {},
   "outputs": [],
   "source": [
    "\n",
    "s3 = boto3.client('s3')\n",
    "\n",
    "response = s3.list_objects_v2(Bucket='cen-datalake-raw', Prefix='infotecnica/')\n",
    "\n",
    "listaRaw = []\n",
    "\n",
    "for objeto in response['Contents']:\n",
    "    ruta = objeto['Key']\n",
    "    lista = ruta.split(\"/\")[:-1]\n",
    "    ruta_procesada = \"/\".join(lista)\n",
    "    listaRaw.append(ruta_procesada)\n",
    "\n",
    "response = s3.list_objects_v2(Bucket='cen-datalake-staging', Prefix='infotecnica/')\n",
    "\n",
    "listaStaging = []\n",
    "\n",
    "for objeto in response['Contents']:\n",
    "    ruta = objeto['Key']\n",
    "    lista = ruta.split(\"/\")[:-1]\n",
    "    ruta_procesada = \"/\".join(lista)\n",
    "    listaStaging.append(ruta_procesada)\n",
    "\n",
    "for element in listaRaw:\n",
    "    if element not in listaStaging:\n",
    "        print(element)"
   ]
  }
 ],
 "metadata": {
  "kernelspec": {
   "display_name": "Python 3",
   "language": "python",
   "name": "python3"
  },
  "language_info": {
   "codemirror_mode": {
    "name": "ipython",
    "version": 3
   },
   "file_extension": ".py",
   "mimetype": "text/x-python",
   "name": "python",
   "nbconvert_exporter": "python",
   "pygments_lexer": "ipython3",
   "version": "3.10.6"
  },
  "orig_nbformat": 4,
  "vscode": {
   "interpreter": {
    "hash": "369f2c481f4da34e4445cda3fffd2e751bd1c4d706f27375911949ba6bb62e1c"
   }
  }
 },
 "nbformat": 4,
 "nbformat_minor": 2
}
