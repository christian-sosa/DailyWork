{
 "cells": [
  {
   "cell_type": "code",
   "execution_count": null,
   "metadata": {},
   "outputs": [],
   "source": [
    "import awswrangler as wr\n",
    "import pandas as pd\n",
    "import os\n",
    "\n",
    "AMBIENTE = os.getenv(\"AMBIENTE\")\n",
    "\n",
    "AMBIENTE"
   ]
  },
  {
   "cell_type": "code",
   "execution_count": null,
   "metadata": {},
   "outputs": [],
   "source": [
    "roles = wr.s3.read_parquet(f\"s3://cchc-dw-{AMBIENTE}-staging/conecta/roles\",columns=['per_id','numero_socio','id_rol','estado_relacion'])\n",
    "ficha_personas = wr.s3.read_parquet(f\"s3://cchc-dw-{AMBIENTE}-staging/conecta/ficha_personas/estado=ACTIVO/\",columns=['per_id','rut','nombre_completo','telefono_comercial','telefono_movil_comercial','email_comercial'])\n",
    "\n",
    "ficha_personas.head()"
   ]
  },
  {
   "cell_type": "code",
   "execution_count": null,
   "metadata": {},
   "outputs": [],
   "source": [
    "df_roles = roles.copy()\n",
    "df_ficha_personas = ficha_personas.copy()\n",
    "\n",
    "df_roles = df_roles[(df_roles.id_rol == 106) & (df_roles.estado_relacion == 'ACTIVA')]\n",
    "\n",
    "df_merge = df_roles.merge(df_ficha_personas, how='left', on='per_id')\n",
    "\n",
    "df_merge.rename(columns={\n",
    "    \"per_id\": \"id_persona\",\n",
    "    \"numero_socio\": \"id_socio\",\n",
    "    \"nombre_completo\": \"nombre\",\n",
    "    \"telefono_movil_comercial\": \"celular_comercial\",\n",
    "    \"email_comercial\": \"mail_comercial\"\n",
    "},inplace=True)\n",
    "\n",
    "df_merge = df_merge[['id_socio', 'id_persona', 'rut', 'nombre', 'telefono_comercial', 'celular_comercial', 'mail_comercial']]\n",
    "\n",
    "\n",
    "wr.s3.to_parquet(\n",
    "        df=df_merge,\n",
    "        path=f\"s3://cchc-dw-{AMBIENTE}-analytics/dim_representantes_camara\",\n",
    "        dataset=True,\n",
    "        mode=\"overwrite\",\n",
    ")"
   ]
  }
 ],
 "metadata": {
  "kernelspec": {
   "display_name": "Python 3",
   "language": "python",
   "name": "python3"
  },
  "language_info": {
   "codemirror_mode": {
    "name": "ipython",
    "version": 3
   },
   "file_extension": ".py",
   "mimetype": "text/x-python",
   "name": "python",
   "nbconvert_exporter": "python",
   "pygments_lexer": "ipython3",
   "version": "3.10.6"
  },
  "orig_nbformat": 4,
  "vscode": {
   "interpreter": {
    "hash": "369f2c481f4da34e4445cda3fffd2e751bd1c4d706f27375911949ba6bb62e1c"
   }
  }
 },
 "nbformat": 4,
 "nbformat_minor": 2
}
