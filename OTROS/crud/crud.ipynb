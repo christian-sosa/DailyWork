{
 "cells": [
  {
   "attachments": {},
   "cell_type": "markdown",
   "metadata": {},
   "source": [
    "thanks chatgpt"
   ]
  },
  {
   "cell_type": "code",
   "execution_count": null,
   "metadata": {},
   "outputs": [],
   "source": [
    "import boto3\n",
    "\n",
    "dynamodb = boto3.resource('dynamodb')\n",
    "table = dynamodb.Table('ServerlessProject-dynamo-user-dev')"
   ]
  },
  {
   "cell_type": "code",
   "execution_count": null,
   "metadata": {},
   "outputs": [],
   "source": [
    "# Define the item to be created\n",
    "item = {\n",
    "    'email': 'sosa.christian@gmail.com',\n",
    "    'apellido': 'carlos',\n",
    "    'id': '1234',\n",
    "    'name': 'John Doe',\n",
    "    'age': 30\n",
    "}\n",
    "\n",
    "# Create the item in DynamoDB\n",
    "response = table.put_item(Item=item)\n",
    "\n",
    "# Print the response\n",
    "print(response)"
   ]
  },
  {
   "attachments": {},
   "cell_type": "markdown",
   "metadata": {},
   "source": [
    "create"
   ]
  },
  {
   "cell_type": "code",
   "execution_count": null,
   "metadata": {},
   "outputs": [],
   "source": [
    "import json\n",
    "import boto3\n",
    "import uuid\n",
    "\n",
    "s3 = boto3.client('s3')\n",
    "dynamodb = boto3.client('dynamodb')\n",
    "\n",
    "def lambda_handler(event, context):\n",
    "    body = json.loads(event['body'])\n",
    "    nombre = body['nombre']\n",
    "    apellido = body['apellido']\n",
    "    email = body['email']\n",
    "    imagen = body['imagen']\n",
    "    id = str(uuid.uuid4())\n",
    "\n",
    "    # Guardar la imagen en S3\n",
    "    s3.put_object(\n",
    "        Bucket='nombre-del-bucket',\n",
    "        Key=f'imagenes/{id}.jpg',\n",
    "        Body=imagen.encode(),\n",
    "        ACL='public-read',\n",
    "        ContentType='image/jpeg',\n",
    "    )\n",
    "\n",
    "    # Guardar los datos en DynamoDB\n",
    "    item = {\n",
    "        'id': {'S': id},\n",
    "        'nombre': {'S': nombre},\n",
    "        'apellido': {'S': apellido},\n",
    "        'email': {'S': email},\n",
    "        'imagen': {'S': f'https://nombre-del-bucket.s3.amazonaws.com/imagenes/{id}.jpg'},\n",
    "    }\n",
    "    dynamodb.put_item(\n",
    "        TableName='nombre-de-la-tabla',\n",
    "        Item=item,\n",
    "    )\n",
    "\n",
    "    return {\n",
    "        'statusCode': 200,\n",
    "        'body': json.dumps({'id': id}),\n",
    "    }"
   ]
  },
  {
   "attachments": {},
   "cell_type": "markdown",
   "metadata": {},
   "source": [
    "update"
   ]
  },
  {
   "cell_type": "code",
   "execution_count": null,
   "metadata": {},
   "outputs": [],
   "source": [
    "import boto3\n",
    "import json\n",
    "\n",
    "dynamodb = boto3.client('dynamodb')\n",
    "\n",
    "def lambda_handler(event, context):\n",
    "    body = json.loads(event['body'])\n",
    "    id = body['id']\n",
    "    nombre = body['nombre']\n",
    "    apellido = body['apellido']\n",
    "    email = body['email']\n",
    "\n",
    "    # Actualizar los datos en DynamoDB\n",
    "    dynamodb.update_item(\n",
    "        TableName='nombre-de-la-tabla',\n",
    "        Key={\n",
    "            'id': {'S': id},\n",
    "        },\n",
    "        UpdateExpression='SET nombre = :nombre, apellido = :apellido, email = :email',\n",
    "        ExpressionAttributeValues={\n",
    "            ':nombre': {'S': nombre},\n",
    "            ':apellido': {'S': apellido},\n",
    "            ':email': {'S': email},\n",
    "        },\n",
    "    )\n",
    "\n",
    "    return {\n",
    "        'statusCode': 200,\n",
    "        'body': json.dumps({'message': 'Datos actualizados exitosamente'}),\n",
    "    }"
   ]
  },
  {
   "attachments": {},
   "cell_type": "markdown",
   "metadata": {},
   "source": [
    "read"
   ]
  },
  {
   "cell_type": "code",
   "execution_count": null,
   "metadata": {},
   "outputs": [],
   "source": [
    "import boto3\n",
    "import json\n",
    "\n",
    "dynamodb = boto3.client('dynamodb')\n",
    "\n",
    "def lambda_handler(event, context):\n",
    "    id = event['queryStringParameters']['id']\n",
    "\n",
    "    # Obtener los datos del objeto con el ID proporcionado\n",
    "    response = dynamodb.get_item(\n",
    "        TableName='nombre-de-la-tabla',\n",
    "        Key={\n",
    "            'id': {'S': id},\n",
    "        },\n",
    "    )\n",
    "\n",
    "    if 'Item' not in response:\n",
    "        return {\n",
    "            'statusCode': 404,\n",
    "            'body': json.dumps({'message': 'No se encontró el objeto'}),\n",
    "        }\n",
    "\n",
    "    # Construir la respuesta con los datos del objeto\n",
    "    item = response['Item']\n",
    "    data = {\n",
    "        'id': item['id']['S'],\n",
    "        'nombre': item['nombre']['S'],\n",
    "        'apellido': item['apellido']['S'],\n",
    "        'email': item['email']['S'],\n",
    "        'imagen_url': item['imagen_url']['S'],\n",
    "    }\n",
    "\n",
    "    return {\n",
    "        'statusCode': 200,\n",
    "        'body': json.dumps(data),\n",
    "    }"
   ]
  },
  {
   "attachments": {},
   "cell_type": "markdown",
   "metadata": {},
   "source": [
    "delete"
   ]
  },
  {
   "cell_type": "code",
   "execution_count": null,
   "metadata": {},
   "outputs": [],
   "source": [
    "import boto3\n",
    "import json\n",
    "\n",
    "dynamodb = boto3.client('dynamodb')\n",
    "\n",
    "def lambda_handler(event, context):\n",
    "    id = event['queryStringParameters']['id']\n",
    "\n",
    "    # Borrar el objeto con el ID proporcionado\n",
    "    response = dynamodb.delete_item(\n",
    "        TableName='nombre-de-la-tabla',\n",
    "        Key={\n",
    "            'id': {'S': id},\n",
    "        },\n",
    "    )\n",
    "\n",
    "    return {\n",
    "        'statusCode': 200,\n",
    "        'body': json.dumps({'message': 'Objeto borrado exitosamente'}),\n",
    "    }"
   ]
  },
  {
   "attachments": {},
   "cell_type": "markdown",
   "metadata": {},
   "source": [
    "delete object s3"
   ]
  },
  {
   "cell_type": "code",
   "execution_count": null,
   "metadata": {},
   "outputs": [],
   "source": [
    "import boto3\n",
    "\n",
    "s3 = boto3.client('s3')\n",
    "\n",
    "def delete_image(bucket_name, image_key):\n",
    "    s3.delete_object(Bucket=bucket_name, Key=image_key)\n",
    "\n",
    "delete_image('nombre-del-bucket', 'ruta/de/la/imagen.jpg')"
   ]
  },
  {
   "cell_type": "code",
   "execution_count": 7,
   "metadata": {},
   "outputs": [
    {
     "name": "stdout",
     "output_type": "stream",
     "text": [
      "2023\n",
      "2\n"
     ]
    }
   ],
   "source": [
    "from datetime import datetime\n",
    "from dateutil import tz\n",
    "\n",
    "\n",
    "#CLT = tz.gettz(\"America/Santiago\")\n",
    "#year = datetime.now(tz=CLT).year\n",
    "#month = datetime.now(tz=CLT).month\n",
    "\n",
    "year = datetime.today().year\n",
    "month = datetime.today().month\n",
    "\n",
    "print(year)\n",
    "print(month)"
   ]
  }
 ],
 "metadata": {
  "kernelspec": {
   "display_name": "Python 3",
   "language": "python",
   "name": "python3"
  },
  "language_info": {
   "codemirror_mode": {
    "name": "ipython",
    "version": 3
   },
   "file_extension": ".py",
   "mimetype": "text/x-python",
   "name": "python",
   "nbconvert_exporter": "python",
   "pygments_lexer": "ipython3",
   "version": "3.10.6"
  },
  "orig_nbformat": 4,
  "vscode": {
   "interpreter": {
    "hash": "369f2c481f4da34e4445cda3fffd2e751bd1c4d706f27375911949ba6bb62e1c"
   }
  }
 },
 "nbformat": 4,
 "nbformat_minor": 2
}
